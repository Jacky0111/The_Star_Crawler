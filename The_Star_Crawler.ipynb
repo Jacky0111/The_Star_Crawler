{
 "cells": [
  {
   "cell_type": "code",
   "execution_count": 19,
   "metadata": {},
   "outputs": [],
   "source": [
    "import re\n",
    "import time\n",
    "import pandas as pd\n",
    "from datetime import datetime, timedelta\n",
    "\n",
    "from selenium import webdriver\n",
    "from selenium.webdriver.common.action_chains import ActionChains\n",
    "from selenium.common.exceptions import ElementClickInterceptedException, TimeoutException, NoSuchElementException\n",
    "from selenium.webdriver.chrome.options import Options\n",
    "from selenium.webdriver.common.by import By\n",
    "from selenium.webdriver.support.wait import WebDriverWait\n",
    "from selenium.webdriver.support import expected_conditions as EC"
   ]
  },
  {
   "cell_type": "markdown",
   "metadata": {},
   "source": [
    "### Click the \"Load More\" button for scraping more news"
   ]
  },
  {
   "cell_type": "code",
   "execution_count": 20,
   "metadata": {},
   "outputs": [],
   "source": [
    "def extendPage():\n",
    "    while True:\n",
    "        try:\n",
    "            try:\n",
    "                # Just to locate to the Load More button to be clicked\n",
    "                load_more = driver.find_element_by_class_name('quicklinks')\n",
    "                actions = ActionChains(driver)\n",
    "                actions.move_to_element(load_more).perform()\n",
    "            except NoSuchElementException:\n",
    "                print('Skip')\n",
    "                break\n",
    "            except StaleElementReferenceException:\n",
    "                print('Skip')\n",
    "                break\n",
    "\n",
    "            WebDriverWait(driver, 10).until(\n",
    "                EC.element_to_be_clickable((By.ID, \"loadMorestories\"))).click()\n",
    "            break\n",
    "        except ElementClickInterceptedException:\n",
    "            print(\"Try again\")\n",
    "            pass\n",
    "        except TimeoutException:\n",
    "            print(\"Try again\")\n",
    "            pass\n",
    "        except NoSuchElementException:\n",
    "            print(\"Try again\")\n",
    "            pass"
   ]
  },
  {
   "cell_type": "markdown",
   "metadata": {},
   "source": [
    "### Iterate the given list to text or url"
   ]
  },
  {
   "cell_type": "code",
   "execution_count": 21,
   "metadata": {},
   "outputs": [],
   "source": [
    "def toList(given_list, condition):\n",
    "    convert = []\n",
    "    for i in given_list:\n",
    "        if condition == 'link':\n",
    "            convert.append(i.get_attribute('href'))\n",
    "        else:\n",
    "            convert.append(i.text)\n",
    "    non_empty_ele = [j for j in convert if j]\n",
    "    return non_empty_ele"
   ]
  },
  {
   "cell_type": "markdown",
   "metadata": {},
   "source": [
    "### Activate chrome driver"
   ]
  },
  {
   "cell_type": "code",
   "execution_count": 22,
   "metadata": {},
   "outputs": [],
   "source": [
    "driver = webdriver.Chrome()\n",
    "driver.get('https://www.thestar.com.my/')\n",
    "time.sleep(10)"
   ]
  },
  {
   "cell_type": "markdown",
   "metadata": {},
   "source": [
    "### Extract all types of news"
   ]
  },
  {
   "cell_type": "code",
   "execution_count": 23,
   "metadata": {},
   "outputs": [
    {
     "name": "stdout",
     "output_type": "stream",
     "text": [
      "['StarPlus', 'News', 'Asean+', 'Business', 'Sport', 'Metro', 'Lifestyle', 'Food', 'Tech', 'Education', 'Opinion', 'StarPicks']\n"
     ]
    }
   ],
   "source": [
    "types = driver.find_elements_by_xpath(\".//li[@class = 'dropdown']\")\n",
    "all_type = toList(types, 'text')\n",
    "all_type.remove('Videos')\n",
    "all_type.remove('Photos')\n",
    "print(all_type)"
   ]
  },
  {
   "cell_type": "code",
   "execution_count": 24,
   "metadata": {},
   "outputs": [],
   "source": [
    "links_list = []\n",
    "news_list = []"
   ]
  },
  {
   "cell_type": "markdown",
   "metadata": {},
   "source": [
    "### Browse through every type of webpage, scrape the links and store into a list\n"
   ]
  },
  {
   "cell_type": "code",
   "execution_count": 25,
   "metadata": {},
   "outputs": [
    {
     "name": "stdout",
     "output_type": "stream",
     "text": [
      "//a[contains(text(), 'StarPlus')]\n",
      "Skip\n",
      "27\n",
      "//a[contains(text(), 'News')]\n",
      "76\n",
      "//a[contains(text(), 'Asean+')]\n",
      "Skip\n",
      "115\n",
      "//a[contains(text(), 'Business')]\n",
      "165\n",
      "//a[contains(text(), 'Sport')]\n",
      "214\n",
      "//a[contains(text(), 'Metro')]\n",
      "261\n",
      "//a[contains(text(), 'Lifestyle')]\n",
      "Skip\n",
      "303\n",
      "//a[contains(text(), 'Food')]\n",
      "342\n",
      "//a[contains(text(), 'Tech')]\n",
      "Skip\n",
      "381\n",
      "//a[contains(text(), 'Education')]\n",
      "Skip\n",
      "391\n",
      "//a[contains(text(), 'Opinion')]\n",
      "Skip\n",
      "418\n",
      "//a[contains(text(), 'StarPicks')]\n",
      "Skip\n",
      "435\n"
     ]
    }
   ],
   "source": [
    "for element in all_type:\n",
    "    xpath = f\"//a[contains(text(), '{element}')]\"\n",
    "    WebDriverWait(driver, 10).until(\n",
    "        EC.element_to_be_clickable((By.XPATH, xpath))).click()\n",
    "    print(xpath)\n",
    "    extendPage()\n",
    "\n",
    "    travel1 = driver.find_elements_by_xpath(\".//main//div[5]//h2/a\")\n",
    "    if element.lower() == 'starplus' or element.lower() == 'business' or element.lower() == 'lifestyle' or element.lower() == 'opinion':\n",
    "        travel2 = driver.find_elements_by_xpath(\".//main//div[6]//h2/a\")\n",
    "    else:\n",
    "        travel2 = driver.find_elements_by_xpath(\".//main//div[6]/div/div/div[2]//h2/a\")\n",
    "\n",
    "    links_list1 = toList(travel1, 'link')\n",
    "    links_list2 = toList(travel2, 'link')\n",
    "    links_list = links_list + links_list1 + links_list2\n",
    "    print(len(links_list))\n",
    "\n",
    "driver.close()\n",
    "driver.quit()"
   ]
  },
  {
   "cell_type": "markdown",
   "metadata": {},
   "source": [
    "### Remove duplicates from list\n"
   ]
  },
  {
   "cell_type": "code",
   "execution_count": 29,
   "metadata": {
    "scrolled": true
   },
   "outputs": [
    {
     "name": "stdout",
     "output_type": "stream",
     "text": [
      "No. of non-duplicated link: 298\n"
     ]
    }
   ],
   "source": [
    "filtered_links = []\n",
    "[filtered_links.append(x) for x in links_list if x not in filtered_links]\n",
    "print(f'No. of non-duplicated link: {len(filtered_links)}')"
   ]
  },
  {
   "cell_type": "markdown",
   "metadata": {},
   "source": [
    "### Considering the Food category contains some recipes which will lead to another web page, therefore I decided to remove non The Star link here\n"
   ]
  },
  {
   "cell_type": "code",
   "execution_count": 30,
   "metadata": {
    "scrolled": true
   },
   "outputs": [
    {
     "name": "stdout",
     "output_type": "stream",
     "text": [
      "No. of non-TheStar link: 296\n"
     ]
    },
    {
     "data": {
      "text/plain": [
       "['https://www.thestar.com.my/news/nation/2021/09/19/interactive-how-single-dose-covid-19-vaccines-help-protect-malaysia039s-remote-communities',\n",
       " 'https://www.thestar.com.my/news/nation/2021/09/02/interactive-how-much-are-you-at-risk-from-accidents-at-work',\n",
       " 'https://www.thestar.com.my/news/nation/2021/09/10/prevent-suicide-together-creating-hope-through-action?utm_medium=thestar&utm_source=rosnawidget&utm_campaign=KKM+10Sep21',\n",
       " 'https://www.thestar.com.my/news/nation/2021/09/16/interactive-the-bahasa-in-malaysia',\n",
       " 'https://www.thestar.com.my/news/nation/2021/09/09/interactive-from-the-desks-of-our-journalists',\n",
       " 'https://www.thestar.com.my/news/nation/2021/09/02/interactive-how-to-boost-vaccinations-in-malaysia039s-six-target-states',\n",
       " 'https://www.thestar.com.my/news/nation/2021/08/27/interactive-over-two-million-students-eligible-for-vaccination',\n",
       " 'https://www.thestar.com.my/news/nation/2021/08/19/interactive-hospital-admissions-and-icu-cases-fall-in-some-states-as-vaccinations-rise',\n",
       " 'https://www.thestar.com.my/news/nation/2021/08/10/unvaccinated-form-bulk-of-malaysia039s-new-covid-19-cases',\n",
       " 'https://www.thestar.com.my/news/nation/2021/08/05/interactive-in-a-greying-malaysia-youths-opt-to-remain-single',\n",
       " 'https://www.thestar.com.my/news/nation/2021/08/02/interactive-malaysia-weekly-covid-19-cases-rise-by-29-deaths-up-8',\n",
       " 'https://www.thestar.com.my/news/nation/2021/08/01/interactive-do-you-have-what-it-takes-to-be-the-next-badminton-superstar',\n",
       " 'https://www.thestar.com.my/news/nation/2021/08/01/klang-valley-close-to-100-first-dose-vaccinations',\n",
       " 'https://www.thestar.com.my/news/nation/2021/07/23/malaysia039s-vaccination-rate-speeds-past-the-us',\n",
       " 'https://www.thestar.com.my/news/nation/2021/07/18/interactive-durian-season-is-in-full-swing-and-here039s-what-you-need-to-know',\n",
       " 'https://www.thestar.com.my/news/nation/2021/07/13/interactive-how-fake-news-about-covid-19-has-shifted-and-what-to-look-out-for',\n",
       " 'https://www.thestar.com.my/starpicks/2021/09/14/join-the-lbs-fabulous-lucky-draw?utm_medium=thestar&utm_source=rosnawidget&utm_campaign=LBS+Bina+14Sep21',\n",
       " 'https://www.thestar.com.my/starpicks/2021/09/18/mark-your-calendar-for-huawei-wearable-and-audio-day?utm_medium=thestar&utm_source=rosnawidget&utm_campaign=20210918_Huawei',\n",
       " 'https://www.thestar.com.my/starpicks/2021/09/13/shaping-doctors-of-the-future?utm_medium=thestar&utm_source=rosnawidget&utm_campaign=Monash+Uni+13Sep21',\n",
       " 'https://www.thestar.com.my/starpicks/2021/09/12/committed-to-changing-lives?utm_medium=thestar&utm_source=rosnawidget&utm_campaign=Coway+120921',\n",
       " 'https://www.thestar.com.my/starpicks/2021/09/07/developing-passionate-early-childhood-educators?utm_medium=thestar&utm_source=rosnawidget&utm_campaign=Help+University+7Sep21',\n",
       " 'https://www.thestar.com.my/starpicks/2021/09/06/taking-a-multidisciplinary-approach-to-healthcare-at-monash?utm_medium=thestar&utm_source=rosnawidget&utm_campaign=Monash+Uni+6Sep21',\n",
       " 'https://www.thestar.com.my/starpicks/2021/09/16/pdb-supports-local-entrepreneurs-inspiring-hope-in-tough-times?utm_medium=thestar&utm_source=rosnawidget&utm_campaign=Petronas+Dagangan+16Sep21',\n",
       " 'https://www.thestar.com.my/starpicks/2021/09/15/supplementing-your-childs-nutritional-needs?utm_medium=thestar&utm_source=rosnawidget&utm_campaign=Shyan+15Sep21',\n",
       " 'https://www.thestar.com.my/starpicks/2021/09/14/kfc-to-auction-limited-edition-buckets-featuring-messages-of-hope?utm_medium=thestar&utm_source=rosnawidget&utm_campaign=20210914_QSR',\n",
       " 'https://www.thestar.com.my/news/nation/2021/09/19/dr-adham-baba-over-93-of-adults-in-the-country-have-received-at-least-one-dose-of-the-vaccine',\n",
       " 'https://www.thestar.com.my/news/nation/2021/09/19/former-kunak-rep-nilwan-kabang-passes-away',\n",
       " 'https://www.thestar.com.my/news/nation/2021/09/19/senai-utara-kulai-northbound-right-lane-on-plus-closed-for-upgrading-works',\n",
       " 'https://www.thestar.com.my/news/nation/2021/09/19/man-found-dead-in-car-submerged-underwater-in-sabah',\n",
       " 'https://www.thestar.com.my/news/nation/2021/09/19/covid-19-health-ministry-reports-324-fatalities-as-of-saturday-sept-18',\n",
       " 'https://www.thestar.com.my/news/nation/2021/09/19/body-of-039kelong039-worker-who-fell-into-sea-found-says-mmea',\n",
       " 'https://www.thestar.com.my/news/world/2021/09/19/indonesian-militant-leader-killed-in-shootout-police-say',\n",
       " 'https://www.thestar.com.my/news/nation/2021/09/19/sabah-expecting-over-rm200mil-from-federal-govt-for-in-disaster-relief-says-state-govt',\n",
       " 'https://www.thestar.com.my/news/world/2021/09/19/world-leaders-return-to-un-with-focus-on-pandemic-climate',\n",
       " 'https://www.thestar.com.my/news/nation/2021/09/19/mosques-in-perlis-to-open-fully-from-wednesday',\n",
       " 'https://www.thestar.com.my/news/nation/2021/09/19/four-meter-long-croc-likely-an-interstate-traveller',\n",
       " 'https://www.thestar.com.my/news/nation/2021/09/19/england-relaxes-restrictions-for-fully-vaccinated-malaysians',\n",
       " 'https://www.thestar.com.my/news/nation/2021/09/19/covid-19-over-230000-vaccine-doses-administered-on-sunday-sept-12',\n",
       " 'https://www.thestar.com.my/news/nation/2021/09/19/chong-wei039s-donation-will-benefit-people-around-bukit-mertajam-says-health-dg',\n",
       " 'https://www.thestar.com.my/news/nation/2021/09/19/simpang-pulai-cameron-highlands-road-closed-due-to-landslide',\n",
       " 'https://www.thestar.com.my/news/nation/2021/09/19/allow-some-interstate-travel',\n",
       " 'https://www.thestar.com.my/starpicks/2021/09/06/taking-a-multidisciplinary-approach-to-healthcare-at-monash?utm_medium=thestar&utm_source=secpmnewslisting&utm_campaign=Monash+Uni+6Sep21',\n",
       " 'https://www.thestar.com.my/news/nation/2021/09/19/i-thought-a-bomb-had-exploded',\n",
       " 'https://www.thestar.com.my/news/nation/2021/09/19/johor-ruler-wants-govt-to-withdraw-citizenship-case-appeal',\n",
       " 'https://www.thestar.com.my/news/nation/2021/09/19/watch-out-for-godzillas-little-cousins-crossing',\n",
       " 'https://www.thestar.com.my/news/nation/2021/09/19/holidaymaker-heading-to-langkawi-tests-positive',\n",
       " 'https://www.thestar.com.my/news/focus/2021/09/19/covid-forever',\n",
       " 'https://www.thestar.com.my/news/nation/2021/09/19/ldl-validity-extended-again',\n",
       " 'https://www.thestar.com.my/news/nation/2021/09/19/food-security-the-focus-of-next-budget',\n",
       " 'https://www.thestar.com.my/news/nation/2021/09/19/army-ends-operation-inklang-valley',\n",
       " 'https://www.thestar.com.my/news/nation/2021/09/19/veteran-star-sports-journo-passes-away',\n",
       " 'https://www.thestar.com.my/news/nation/2021/09/19/illegals-resort-to-breaking-the-law-to-get-vaccinated',\n",
       " 'https://www.thestar.com.my/news/nation/2021/09/19/donations-pouring-in',\n",
       " 'https://www.thestar.com.my/news/world/2021/09/19/france-sees-crisis-over-submarine-cancellation---le-drian',\n",
       " 'https://www.thestar.com.my/news/nation/2021/09/18/road-leading-to-camerons-via-simpang-pulai-closed-after-part-of-hillslope-collapses',\n",
       " 'https://www.thestar.com.my/news/nation/2021/09/18/sabah-govt-announces-further-relaxation-of-activities-for-fully-vaccinated-from-monday-sept-20',\n",
       " 'https://www.thestar.com.my/news/nation/2021/09/18/selangor-police-issue-423-compounds-for-disregarding-sop',\n",
       " 'https://www.thestar.com.my/news/nation/2021/09/18/over-2500-people-entering-langkawi-screened-one-tested-positive-for-covid-19-says-health-dg',\n",
       " 'https://www.thestar.com.my/news/nation/2021/09/18/landslide-area-at-kemensah-heights-declared-disaster-site-says-amirudin',\n",
       " 'https://www.thestar.com.my/news/nation/2021/09/18/bereaved-woman-loses-almost-rm400000-after-falling-for-love-scam',\n",
       " 'https://www.thestar.com.my/news/nation/2021/09/18/johor-ruler-urges-govt-to-reconsider-appealing-high-court039s-decision-on-children-born-to-malaysian-parents-abroad',\n",
       " 'https://www.thestar.com.my/aseanplus/aseanplus-news/2021/09/19/epic-documentary-shows-vietnam039s-wartime-history',\n",
       " 'https://www.thestar.com.my/aseanplus/aseanplus-news/2021/09/19/asean-reports-lowest-covid-related-deaths-this-month-as-new-cases-decline',\n",
       " 'https://www.thestar.com.my/aseanplus/aseanplus-news/2021/09/19/onlyfans-star-and-boyfriend-in-hot-water',\n",
       " 'https://www.thestar.com.my/aseanplus/aseanplus-news/2021/09/19/japan-pm-candidates-deny-toning-down-views',\n",
       " 'https://www.thestar.com.my/aseanplus/aseanplus-news/2021/09/19/pm-barges-into-video-call',\n",
       " 'https://www.thestar.com.my/aseanplus/aseanplus-news/2021/09/19/primary-schools-to-go-online-as-cases-rise',\n",
       " 'https://www.thestar.com.my/aseanplus/aseanplus-news/2021/09/19/039quad039-countries-to-agree-on-secure-microchip-supply-chain-media',\n",
       " 'https://www.thestar.com.my/aseanplus/aseanplus-news/2021/09/19/hong-kong039s-first-039patriots-only039-election-kicks-off',\n",
       " 'https://www.thestar.com.my/aseanplus/aseanplus-news/2021/09/19/air-france-boeing-jet-makes-emergency-landing-in-beijing',\n",
       " 'https://www.thestar.com.my/aseanplus/aseanplus-news/2021/09/19/philippines-divers-clear-plastic-waste-from-corals-for-world-cleanup-day',\n",
       " 'https://www.thestar.com.my/aseanplus/aseanplus-news/2021/09/19/singapore039s-new-covid-19-cases-cross-1000-mark-highest-number-since-apr-23-as-unvaccinated-man-90-dies-from-complications',\n",
       " 'https://www.thestar.com.my/aseanplus/aseanplus-news/2021/09/18/cambodia-mulls-fourth-dose-of-covid-19-jabs-cases-keep-rising-as-another-648-infections-are-reported',\n",
       " 'https://www.thestar.com.my/aseanplus/aseanplus-news/2021/09/19/victims-families-cry-for-justice',\n",
       " 'https://www.thestar.com.my/aseanplus/aseanplus-news/2021/09/19/telecom-tower-attacks-show-evolving-tactics-in-conflict',\n",
       " 'https://www.thestar.com.my/aseanplus/aseanplus-news/2021/09/19/vaccination-for-kids-ages-six-to-12-roll-out',\n",
       " 'https://www.thestar.com.my/aseanplus/aseanplus-news/2021/09/19/asean-news-headlines-at-10pm-on-saturday-sept-18',\n",
       " 'https://www.thestar.com.my/aseanplus/aseanplus-news/2021/09/19/indonesia-president-says-covid-19-under-control-but-urges-caution-as-3385-new-cases-reported-on-saturday-sept-18',\n",
       " 'https://www.thestar.com.my/aseanplus/aseanplus-news/2021/09/19/thailand-health-ministry-says-that-covid-19-cases-and-related-deaths-in-country-is-now-seeing-a-decline',\n",
       " 'https://www.thestar.com.my/aseanplus/aseanplus-news/2021/09/18/covid-hit-chinese-city-xiamen-tells-residents-to-stay-home-as-holiday-starts',\n",
       " 'https://www.thestar.com.my/aseanplus/aseanplus-news/2021/09/18/singapore039s-well-known-toa-payoh-lorong-8-market-and-food-centre-closed-after-covid-19-cases-found',\n",
       " 'https://www.thestar.com.my/aseanplus/aseanplus-news/2021/09/18/indonesia-reinstates-tourist-limited-stay-visas-amid-declining-daily-covid-19-cases',\n",
       " 'https://www.thestar.com.my/aseanplus/aseanplus-news/2021/09/18/thailand-daily-covid-19-deaths-hit-7-week-low-health-ministry-confirms-122-deaths-on-saturday-sept-18',\n",
       " 'https://www.thestar.com.my/aseanplus/aseanplus-news/2021/09/18/united-states-and-australia-urged-to-stop-interfering-in-china039s-internal-affairs',\n",
       " 'https://www.thestar.com.my/aseanplus/aseanplus-news/2021/09/18/bats-in-laos-caves-found-to-carry-coronaviruses-that-share-key-feature-with-sars-cov-2',\n",
       " 'https://www.thestar.com.my/aseanplus/aseanplus-news/2021/09/18/brunei-receives-100000-vaccine-doses-from-australia-as-it-confirms-two-more-covid-19-deaths-and-143-ndw-cases',\n",
       " 'https://www.thestar.com.my/aseanplus/aseanplus-news/2021/09/18/singapore-eases-restrictions-for-travellers-from-more-countries-those-from-indonesia-can-also-transit-on-the-island',\n",
       " 'https://www.thestar.com.my/business/business-news/2021/09/18/hitting-the-reset-button-for-corporate-malaysia',\n",
       " 'https://www.thestar.com.my/business/business-news/2021/09/18/pick-up-in-deals-seen-in-near-term',\n",
       " 'https://www.thestar.com.my/business/business-news/2021/09/18/will-evergrande-remain-ever-grand',\n",
       " 'https://www.thestar.com.my/business/business-news/2021/09/19/indonesias-halt-to-palm-oil-expansion-set-to-expire-soon',\n",
       " 'https://www.thestar.com.my/business/business-news/2021/09/19/china-defends-tech-crackdown-in-meeting-with-wall-street-chiefs',\n",
       " 'https://www.thestar.com.my/business/business-news/2021/09/18/cpo-futures-likely-to-see-technical-correction-next-week',\n",
       " 'https://www.thestar.com.my/business/business-news/2021/09/18/kwaps-journey-with-esg-investing',\n",
       " 'https://www.thestar.com.my/business/business-news/2021/09/18/too-early-to-predict',\n",
       " 'https://www.thestar.com.my/business/business-news/2021/09/18/the-18th-entry',\n",
       " 'https://www.thestar.com.my/business/business-news/2021/09/18/smes-in-dire-need-of-assistance',\n",
       " 'https://www.thestar.com.my/business/business-news/2021/09/18/evergrande-says-six-execs-redeemed-investment-products-in-advance',\n",
       " 'https://www.thestar.com.my/business/business-news/2021/09/18/positive-signs-for-top-glove',\n",
       " 'https://www.thestar.com.my/business/business-news/2021/09/18/short-position---johor-corp-restructuring-top-glove-digitil-isation',\n",
       " 'https://www.thestar.com.my/news/nation/2021/09/18/pm-grant-for-smes-to-be-given-out-from-next-week',\n",
       " 'https://www.thestar.com.my/business/business-news/2021/09/18/big-sales-jump-for-ecoworld-malaysia-in-q3',\n",
       " 'https://www.thestar.com.my/business/business-news/2021/09/18/airasia-x-recapitalisation-discussions-progressing-well',\n",
       " 'https://www.thestar.com.my/business/business-news/2021/09/18/astro-customers-in-for-more-content-treat',\n",
       " 'https://www.thestar.com.my/business/business-news/2021/09/18/brighter-outlook-for-malaysias-oil-and-gas-sector',\n",
       " 'https://www.thestar.com.my/business/business-news/2021/09/18/ceos-optimistic-of-recovery',\n",
       " 'https://www.thestar.com.my/business/smebiz/2021/09/18/enabling-digitalisation',\n",
       " 'https://www.thestar.com.my/business/business-news/2021/09/18/gadangs-subsidiary-bags-rm100mil-deal',\n",
       " 'https://www.thestar.com.my/business/smebiz/2021/09/18/getting-smes-on-the-digital-bandwagon',\n",
       " 'https://www.thestar.com.my/business/business-news/2021/09/18/bridging-the-financial-literacy-gap',\n",
       " 'https://www.thestar.com.my/business/business-news/2021/09/18/infineon-opens-austria-plant-early-in-chip-capacity-boost',\n",
       " 'https://www.thestar.com.my/business/business-news/2021/09/18/indonesia-may-reopen-to-tourists-from-some-countries-in-october',\n",
       " 'https://www.thestar.com.my/business/business-news/2021/09/18/airbus-reaches-deal-to-restructure-airasia-jet-order',\n",
       " 'https://www.thestar.com.my/business/business-news/2021/09/18/oil-price-falls-as-storm-hit-us-supply-trickles-back-into-market',\n",
       " 'https://www.thestar.com.my/business/business-news/2021/09/18/world-shares-fall-as-markets-await-fed-meeting-taper-timeline',\n",
       " 'https://www.thestar.com.my/business/business-news/2021/09/17/acccim-welcomes-govt-approval-to-bring-in-32000-foreign-workers-for-plantation-sector',\n",
       " 'https://www.thestar.com.my/sport/diving/2021/09/18/will-nur-dhabitah-smile-again-after-her-diving-father-leaves',\n",
       " 'https://www.thestar.com.my/sport/badminton/2021/09/18/razifs-son-fazriq-gets-new-partner-to-pursue-doubles-glory',\n",
       " 'https://www.thestar.com.my/sport/others/2021/09/19/former-starsport-journalist-ronnie-gone-but-not-forgotten',\n",
       " 'https://www.thestar.com.my/sport/motorsport/2021/09/19/petronas-sepang-racing-team-will-now-be-known-as-rnf-racing',\n",
       " 'https://www.thestar.com.my/sport/cycling/2021/09/19/cycling-former-danish-rider-sorensen-dies-in-road-accident',\n",
       " 'https://www.thestar.com.my/sport/athletics/2021/09/19/athletics-bromell-sets-world-leading-time-in-100m-after-tokyo-disappointment',\n",
       " 'https://www.thestar.com.my/sport/badminton/2021/09/19/bracing-for-kento',\n",
       " 'https://www.thestar.com.my/news/nation/2021/09/18/veteran-sports-writer-ronnie-oh-breathes-his-last',\n",
       " 'https://www.thestar.com.my/sport/football/2021/09/19/soccer-no-striker-no-problem-says-guardiola-after-saints-stalemate',\n",
       " 'https://www.thestar.com.my/sport/badminton/2021/09/19/yap-meng-yean-feels-she-can-succeed-with-new-partner',\n",
       " 'https://www.thestar.com.my/sport/football/2021/09/19/soccer-record-breaker-mane039s-return-to-form-a-boost-for-liverpool',\n",
       " 'https://www.thestar.com.my/sport/football/2021/09/19/soccer-now-i-feel-like-a-villa-player-says-bailey-after-sparkling-cameo',\n",
       " 'https://www.thestar.com.my/sport/football/2021/09/19/soccer-ton-up-for-mane-as-liverpool-down-palace-3-0',\n",
       " 'https://www.thestar.com.my/sport/football/2021/09/19/sarawak-face-long-list-of-suspension-ahead-of-cup-tie',\n",
       " 'https://www.thestar.com.my/sport/football/2021/09/19/soccer-liverpool-go-top-with-win-over-palace-as-city-held-by-saints',\n",
       " 'https://www.thestar.com.my/sport/say-what/2021/09/18/go-where-your-heart-is-jin-wei-its-not-too-late-to-make-a-u-turn',\n",
       " 'https://www.thestar.com.my/sport/diving/2021/09/18/ms-eye-chinese-coach-to-replace-aussie-brooker',\n",
       " 'https://www.thestar.com.my/sport/cricket/2021/09/19/cricket-nz-players-reach-dubai-after-039specific-credible-threat039-derailed-pakistan-tour',\n",
       " 'https://www.thestar.com.my/sport/football/2021/09/19/soccer-derby-boss-rooney-says-he-learned-of-administration-decision-from-tv',\n",
       " 'https://www.thestar.com.my/sport/football/2021/09/19/soccer-pele-continues-recovery-undergoes-physiotherapy-in-hospital',\n",
       " 'https://www.thestar.com.my/sport/badminton/2021/09/17/mee-fen-hopes-jin-wei-will-rethink-about-her-decision-to-quit',\n",
       " 'https://www.thestar.com.my/sport/football/2021/09/18/soccer-mourinho-believes-there-is-more-to-come-from-roma-despite-perfect-start',\n",
       " 'https://www.thestar.com.my/sport/others/2021/09/17/motor-racing---red-bull-blame-verstappen039s-slow-monza-pitstop-on-fia-change',\n",
       " 'https://www.thestar.com.my/sport/rugby/2021/09/19/rugby-wins-over-springboks-will-give-australia-belief-says-rennie',\n",
       " 'https://www.thestar.com.my/sport/football/2021/09/19/soccer-man-city-held-to-frustrating-draw-by-southampton-despite-var-reprieve',\n",
       " 'https://www.thestar.com.my/sport/badminton/2021/09/17/momota-cant-afford-below-par-display-in-sudirman-cup',\n",
       " 'https://www.thestar.com.my/sport/badminton/2021/09/17/its-double-the-workload-for-meng-yean',\n",
       " 'https://www.thestar.com.my/sport/football/2021/09/19/soccer-villa-end-everton039s-unbeaten-start-with-3-0-win',\n",
       " 'https://www.thestar.com.my/sport/tennis/2021/09/19/tennis-teen-ostapenkov-stuns-schwartzman-in-davis-cup',\n",
       " 'https://www.thestar.com.my/sport/bowling/2021/09/19/shalin-lays-out-plan-to-taste-victory-in-us',\n",
       " 'https://www.thestar.com.my/sport/football/2021/09/19/soccer-odegaard-curler-gives-arsenal-win-at-burnley',\n",
       " 'https://www.thestar.com.my/sport/football/2021/09/19/soccer-atletico-mineiro-win-again-to-stay-top-in-brazil',\n",
       " 'https://www.thestar.com.my/sport/others/2021/09/17/astro-to-give-three-new-sports-channels-at-no-extra-cost',\n",
       " 'https://www.thestar.com.my/sport/golf/2021/09/19/thankfully-there-appears-to-be-light-at-the-end-of-the-tunnel',\n",
       " 'https://www.thestar.com.my/sport/football/2021/09/18/soccer-mbappe-expected-to-be-in-psg-squad-for-lyon-clash',\n",
       " 'https://www.thestar.com.my/sport/football/2021/09/18/soccer-more-to-come-from-039world-class039-thiago-says-liverpool-boss-klopp',\n",
       " 'https://www.thestar.com.my/metro/community-sports/2021/09/18/metrosport-forecast-challenge',\n",
       " 'https://www.thestar.com.my/metro/metro-news/2021/09/18/flavours-of-change',\n",
       " 'https://www.thestar.com.my/metro/community-sports/2021/09/18/on-form-chelsea-get-the-nod',\n",
       " 'https://www.thestar.com.my/metro/views/2021/09/18/give-some-thought-to-feral-cats',\n",
       " 'https://www.thestar.com.my/metro/community-sports/2021/09/18/can-palace-see-offliverpool-as-well',\n",
       " 'https://www.thestar.com.my/metro/metro-news/2021/09/18/sweet-note-of-appreciation',\n",
       " 'https://www.thestar.com.my/metro/metro-news/2021/09/18/rivers-waterfalls-in-selangor-forest-reserve-areas-off-limits',\n",
       " 'https://www.thestar.com.my/metro/metro-news/2021/09/18/road-users-in-klang-negotiate-large-potholes-every-day',\n",
       " 'https://www.thestar.com.my/metro/metro-news/2021/09/18/homestay-owners-remain-cautious',\n",
       " 'https://www.thestar.com.my/metro/metro-news/2021/09/18/gyms-geared-up-to-reopen',\n",
       " 'https://www.thestar.com.my/metro/metro-news/2021/09/17/covid-19-virus-not-likely-to-infect-residents-living-nearby-cemeteries',\n",
       " 'https://www.thestar.com.my/metro/metro-news/2021/09/17/bank-gives-rm227mil-for-vaccination-efforts',\n",
       " 'https://www.thestar.com.my/metro/metro-news/2021/09/18/shared-responsibility-to-aid-the-needy',\n",
       " 'https://www.thestar.com.my/metro/metro-news/2021/09/17/10-families-evacuated-as-erosion-threatens-block-of-flats',\n",
       " 'https://www.thestar.com.my/metro/metro-news/2021/09/17/zip-line-in-shah-alam-reopens',\n",
       " 'https://www.thestar.com.my/metro/metro-news/2021/09/17/groups-welcome-timely-urban-farming-guideline',\n",
       " 'https://www.thestar.com.my/metro/metro-news/2021/09/17/kls-bird-park-all-set-to-soar-again',\n",
       " 'https://www.thestar.com.my/metro/metro-news/2021/09/17/residents-need-not-pay-for-repairs-to-roads-damaged-during-upgrading-works',\n",
       " 'https://www.thestar.com.my/metro/metro-news/2021/09/17/army-starts-pitching-medical-tents',\n",
       " 'https://www.thestar.com.my/metro/metro-news/2021/09/17/smes-want-leniency-in-rules-as-economic-sectors-reopen',\n",
       " 'https://www.thestar.com.my/metro/metro-news/2021/09/17/brewer-drives-home-work-smart-drink-smart-message',\n",
       " 'https://www.thestar.com.my/metro/metro-news/2021/09/17/irda-urged-to-shift-into-overdrive',\n",
       " 'https://www.thestar.com.my/metro/metro-news/2021/09/17/pasir-pinji-senior-citizens-receive-mooncakes-lanterns',\n",
       " 'https://www.thestar.com.my/metro/metro-news/2021/09/17/brickfields-folk-question-safety-of-decade-old-bridges',\n",
       " 'https://www.thestar.com.my/metro/metro-news/2021/09/17/local-councils-give-temporary-licences-to-stallholders',\n",
       " 'https://www.thestar.com.my/metro/metro-news/2021/09/17/cinemas-beckon-movie-fans',\n",
       " 'https://www.thestar.com.my/metro/metro-news/2021/09/17/more-aid-to-upgrade-flats',\n",
       " 'https://www.thestar.com.my/metro/metro-news/2021/09/17/virtual-shows-aimed-at-raising-funds-for-struggling-penangpac',\n",
       " 'https://www.thestar.com.my/metro/metro-news/2021/09/17/waivers-for-vendors',\n",
       " 'https://www.thestar.com.my/metro/metro-news/2021/09/17/club-aims-to-raise-rm10000-for-childhood-cancer-awareness',\n",
       " 'https://www.thestar.com.my/metro/metro-news/2021/09/17/students-from-16-schools-get-60-refurbished-laptops-with-data-plans',\n",
       " 'https://www.thestar.com.my/metro/metro-news/2021/09/17/working-together-to-help-vulnerable-communities',\n",
       " 'https://www.thestar.com.my/metro/metro-news/2021/09/17/sibu-councils-environmental-efforts-bag-chief-ministers-award',\n",
       " 'https://www.thestar.com.my/metro/metro-news/2021/09/16/help-us-bring-down-the-curtain-on-vice-activities-in-neighbourhoods-dbkl-urges-public',\n",
       " 'https://www.thestar.com.my/lifestyle/health/2021/09/20/when-machismo-prevents-men-from-seeking-mental-health-help',\n",
       " 'https://www.thestar.com.my/lifestyle/health/2021/09/19/clean-your-house-and-burn-some-calories',\n",
       " 'https://www.thestar.com.my/lifestyle/style/2021/09/17/in-bid-for-sustainability-clothes-are-being-fashioned-from-recycled-car-airbags',\n",
       " 'https://www.thestar.com.my/lifestyle/living/2021/09/19/donkey-milk-soap-soaking-up-fans-in-jordan',\n",
       " 'https://www.thestar.com.my/lifestyle/culture/2021/09/19/039i-am-home039-virtual-exhibit-in-penang-guided-by-oral-history-sketch-art',\n",
       " 'https://www.thestar.com.my/lifestyle/living/2021/09/19/world039s-largest-plant-capturing-co2-from-air-starts-up-in-iceland',\n",
       " 'https://www.thestar.com.my/lifestyle/living/2021/09/19/scotland039s-latest-tourist-attraction-is-a-whisky-wonderland',\n",
       " 'https://www.thestar.com.my/lifestyle/culture/2021/09/18/zimbabwean-artist-turns-worthless-old-mugabe-era-banknotes-into-paintings',\n",
       " 'https://www.thestar.com.my/lifestyle/living/2021/09/18/7-hunting-dogs-that-make-good-house-pets',\n",
       " 'https://www.thestar.com.my/lifestyle/travel/2021/09/18/various-reactions-from-malaysians-over-langkawi-tourism-bubble',\n",
       " 'https://www.thestar.com.my/lifestyle/culture/2021/09/18/malaysian-artist-paints-an-intensely-flavoured-series-on-food-and-memory',\n",
       " 'https://www.thestar.com.my/lifestyle/culture/2021/09/18/first-she-was-a-survivor-metoos-tarana-burke-tells-her-story',\n",
       " 'https://www.thestar.com.my/lifestyle/entertainment/2021/09/18/seungkwan-from-k-pop039s-seventeen-exchanges-microphone-for-badminton-racket-in-new-variety-show',\n",
       " 'https://www.thestar.com.my/lifestyle/living/2021/09/18/greek-winemakers-delve-depths-of-underwater-ageing',\n",
       " 'https://www.thestar.com.my/lifestyle/entertainment/2021/09/17/actor-sylvester-stallone-movie-memorabilia-headed-for-auction',\n",
       " 'https://www.thestar.com.my/lifestyle/family/2021/09/18/living-with-alzheimers',\n",
       " 'https://www.thestar.com.my/lifestyle/people/2021/09/18/study-shows-many-disabled-music-professionals-feel-unable-to-reveal-their-condition',\n",
       " 'https://www.thestar.com.my/lifestyle/travel/2021/09/18/time-for-malaysians-to-re-discover-langkawi-under-tourism-bubble',\n",
       " 'https://www.thestar.com.my/lifestyle/health/2021/09/18/plant-ing-that-zen-feeling-around-your-home',\n",
       " 'https://www.thestar.com.my/lifestyle/culture/2021/09/17/039crazy-dream039-macron-unveils-wrapped-arc-de-triomphe-in-paris',\n",
       " 'https://www.thestar.com.my/lifestyle/entertainment/2021/09/17/singaporean-actor-ryan-lian-talks-about-reuniting-with-brother-who-was-039given-away039-28-years-ago',\n",
       " 'https://www.thestar.com.my/lifestyle/culture/2021/09/17/in-american-author-sandra-cisneros039-new-book-an-overdue-letter-to-a-friend',\n",
       " 'https://www.thestar.com.my/lifestyle/entertainment/2021/09/17/whitney-houston039s-039the-bodyguard039-movie-gets-a-hollywood-remake',\n",
       " 'https://www.thestar.com.my/lifestyle/entertainment/2021/09/17/johor-born-actor-ronny-chieng-says-he039s-still-039anak-malaysia039-in-marvel-studios039-promo-clip',\n",
       " 'https://www.thestar.com.my/lifestyle/family/2021/09/17/starchild-malaysian-children-have-grand-ideas-of-their-dream-homes',\n",
       " 'https://www.thestar.com.my/lifestyle/style/2021/09/17/who-is-nigo-and-why-is-his-takeover-of-the-kenzo-fashion-house-a-big-deal',\n",
       " 'https://www.thestar.com.my/lifestyle/living/2021/09/17/my-pet-story-the-kitten-who-thinks-he-is-a-puppy',\n",
       " 'https://www.thestar.com.my/food/food-news/2021/09/16/new-documentary-series-highlights-penang039s-famed-food-culture-and-food-vendors',\n",
       " 'https://www.thestar.com.my/food/food-news/2021/09/15/enjoy-mid-autumn-celebratory-feasts-at-home',\n",
       " 'https://www.thestar.com.my/food/food-news/2021/09/15/dining-amid-hornbills',\n",
       " 'https://www.thestar.com.my/lifestyle/health/2021/09/11/foods-that-can-add-or-take-away-minutes-of-your-life',\n",
       " 'https://www.thestar.com.my/food/eating-out/2021/09/11/for-coffee-and-ice-cream-lovers',\n",
       " 'https://www.thestar.com.my/food/food-news/2021/09/11/sumatran-beef-dish-for-festive-days',\n",
       " 'https://www.thestar.com.my/food/food-news/2021/09/08/ordering-in-a-beloved-pj-porridge-stall-has-reinvented-itself-as-a-home-business',\n",
       " 'https://www.thestar.com.my/food/food-news/2021/09/08/mid-autumn-festive-meals-for-leisurely-dining-at-home',\n",
       " 'https://www.thestar.com.my/food/food-news/2021/09/08/pizzas-for-malaysian-taste-buds',\n",
       " 'https://www.thestar.com.my/lifestyle/living/tipsy-turvy/2021/09/07/tipsy-turvy-cachaa-the-sweet-spirit-of-brazil',\n",
       " 'https://www.thestar.com.my/food/food-news/2021/09/07/transforming-barren-old-durian-trees-into-fruit-bearing-ones',\n",
       " 'https://www.thestar.com.my/food/food-for-thought/curious-cook/2021/09/05/curious-cook-a-garlic-flavoured-story',\n",
       " 'https://www.thestar.com.my/food/food-news/2021/09/03/ordering-in-the-only-restaurant-in-malaysia-to-feature-the-food-of-the-oldest-peranakans-of-the-land',\n",
       " 'https://www.thestar.com.my/metro/metro-news/2021/09/02/sweet-and-savoury-signature-mini-treats-await-mooncake-lovers',\n",
       " 'https://www.thestar.com.my/food/eating-out/2021/09/02/eaterys-explosive-recipe-for-success',\n",
       " 'https://www.thestar.com.my/food/food-news/2021/09/01/treasured-traditions',\n",
       " 'https://www.thestar.com.my/food/food-news/2021/08/31/get-your-fill-of-savoury-pie',\n",
       " 'https://www.thestar.com.my/food/food-news/2021/08/31/unbox-mouthwatering-gourmand-delights-in-your-home',\n",
       " 'https://www.thestar.com.my/food/food-news/2021/08/30/the-star-studded-singapore-food-festival-has-plenty-for-malaysian-foodies-to-enjoy-at-home',\n",
       " 'https://www.thestar.com.my/lifestyle/living/2021/08/30/will-cloud-kitchens-outlast-the-pandemic',\n",
       " 'https://www.thestar.com.my/food/food-news/2021/08/30/why-have-cloud-kitchens-gained-momentum-in-the-klang-valley-in-the-past-year',\n",
       " 'https://www.thestar.com.my/food/food-news/2021/08/30/did-you-know-that-msg-has-23-less-sodium-than-table-salt',\n",
       " 'https://www.thestar.com.my/food/food-news/2021/08/30/multicultural-meals',\n",
       " 'https://www.thestar.com.my/food/food-for-thought/curious-cook/2021/08/21/curious-cook-villains-of-our-times',\n",
       " 'https://www.thestar.com.my/lifestyle/health/2021/08/20/here039s-what-you-can-and-cannot-use-your-microwave-for',\n",
       " 'https://www.thestar.com.my/food/food-news/2021/08/20/limited-edition-mooncakes-for-mid-autumn-festival',\n",
       " 'https://www.thestar.com.my/food/food-news/2021/08/20/mart-offers-quick-meals-and-groceries',\n",
       " 'https://www.thestar.com.my/tech/tech-news/2021/09/19/devious-licks-the-latest-trend-troubling-tiktok-has-been-banned-from-platform',\n",
       " 'https://www.thestar.com.my/tech/tech-news/2021/09/18/what-to-expect-before-buying-an-escooter',\n",
       " 'https://www.thestar.com.my/tech/tech-news/2021/09/17/mcmc-government-seeking-public-feedback-on-national-super-app',\n",
       " 'https://www.thestar.com.my/tech/tech-news/2021/09/19/opinion-facebook-is-too-secretive-its-oversight-board-should-change-that',\n",
       " 'https://www.thestar.com.my/tech/tech-news/2021/09/17/tencent-opens-wechat-to-rivals-links-as-china-app-walls-crumble',\n",
       " 'https://www.thestar.com.my/tech/tech-news/2021/09/18/workplace-meetings-hit-the-road-as-microsoft-develops-teams-for-cars',\n",
       " 'https://www.thestar.com.my/tech/tech-news/2021/09/19/covid-19-vaccines-here039s-how-to-spot-misinformation-on-social-media---and-fight-it',\n",
       " 'https://www.thestar.com.my/tech/tech-news/2021/09/17/hackers-pose-as-spore-bank-customers-by-stealing-otps-making-s500k-in-fake-credit-card-payments',\n",
       " 'https://www.thestar.com.my/tech/tech-news/2021/09/19/social-media039s-love-of-rare-plants-has-created-a-black-market-boom',\n",
       " 'https://www.thestar.com.my/tech/tech-news/2021/09/19/fbi-warns-sextortionists-targeting-children-as-young-as-seven-adults-of-all-ages',\n",
       " 'https://www.thestar.com.my/tech/tech-news/2021/09/17/infineon-ceo-we-expect-chip-prices-to-rise-significantly',\n",
       " 'https://www.thestar.com.my/tech/2021/09/17/039happy039-spacex-tourist-crew-spend-first-day-whizzing-around-earth',\n",
       " 'https://www.thestar.com.my/tech/tech-news/2021/09/19/facebook-says-wsj-allegations-are-039mischaracterizations039-confer-039false-motives039',\n",
       " 'https://www.thestar.com.my/tech/tech-news/2021/09/18/you-had-one-job-google039s-alarm-fails-countless-users-after-update',\n",
       " 'https://www.thestar.com.my/tech/tech-news/2021/09/17/millions-of-gamers-on-hp-computers-left-vulnerable-by-security-flaw',\n",
       " 'https://www.thestar.com.my/tech/tech-news/2021/09/18/barra-gm-will-make-039substantial-shifts039-in-supply-chain-over-chips',\n",
       " 'https://www.thestar.com.my/tech/tech-news/2021/09/17/british-computing-inventor-clive-sinclair-dies-at-81',\n",
       " 'https://www.thestar.com.my/tech/tech-news/2021/09/18/india-antitrust-probe-finds-google-abused-android-dominance-report-shows',\n",
       " 'https://www.thestar.com.my/tech/tech-news/2021/09/18/chinese-version-of-tiktok-limits-use-of-app-by-those-under-14',\n",
       " 'https://www.thestar.com.my/tech/tech-news/2021/09/17/driving-use-google-maps-speed-limit-warning-feature-to-stay-safe-heres-how',\n",
       " 'https://www.thestar.com.my/tech/tech-news/2021/09/17/amazon-microsoft-swoop-in-on-us24bil-india-farm-data-trove',\n",
       " 'https://www.thestar.com.my/tech/tech-news/2021/09/17/musk-lauds-chinese-carmakers-as-tesla-moves-to-repair-image',\n",
       " 'https://www.thestar.com.my/tech/tech-news/2021/09/18/ireland-raises-privacy-question-over-facebook-smart-glasses',\n",
       " 'https://www.thestar.com.my/tech/tech-news/2021/09/17/el-salvador-body-to-investigate-complaints-about-government039s-bitcoin-purchases-atm-kiosks',\n",
       " 'https://www.thestar.com.my/tech/tech-news/2021/09/17/bumpy-road-as-ageing-japan-bets-on-self-driving-cars',\n",
       " 'https://www.thestar.com.my/tech/tech-news/2021/09/18/work-together-or-fail-039operation-tango039-is-a-game-built-for-two',\n",
       " 'https://www.thestar.com.my/news/education/2021/09/19/cybersecurity-malaysia-we-need-more-experts',\n",
       " 'https://www.thestar.com.my/news/education/2021/09/19/no-substitute-for-joy-experience-of-physical-classes',\n",
       " 'https://www.thestar.com.my/news/education/2021/09/19/utar-bids-farewell-to-2630-grads',\n",
       " 'https://www.thestar.com.my/news/education/2021/09/19/breathing-life-back-into-higher-education',\n",
       " 'https://www.thestar.com.my/news/education/2021/09/19/experts-what-we-do',\n",
       " 'https://www.thestar.com.my/news/education/2021/09/19/keeping-companies-countries-safe',\n",
       " 'https://www.thestar.com.my/news/nation/2021/09/19/20000-experts-by-2025',\n",
       " 'https://www.thestar.com.my/news/education/2021/09/19/rising-demand-for-cybersecurity-specialists',\n",
       " 'https://www.thestar.com.my/news/nation/2021/09/19/teens-want-shots-to-feel-safe',\n",
       " 'https://www.thestar.com.my/news/education/2021/09/19/cambridge-here-i-come',\n",
       " 'https://www.thestar.com.my/opinion/columnists/putting-dr-g-on-the-spot/2021/09/19/u-turn-in-contraception',\n",
       " 'https://www.thestar.com.my/opinion/columnists/analysis/2021/09/18/muhyiddin-is-out-but-still-carries-clout',\n",
       " 'https://www.thestar.com.my/opinion/columnists/on-the-beat/2021/09/19/mind-your-step',\n",
       " 'https://www.thestar.com.my/opinion/columnists/its-just-politics/2021/09/19/the-memorandums-message',\n",
       " 'https://www.thestar.com.my/opinion/columnists/all-the-pieces-matter/2021/09/19/bridge-more-divides',\n",
       " 'https://www.thestar.com.my/opinion/columnists/the-star-says/2021/09/19/remember-why-we-must-follow-sops',\n",
       " 'https://www.thestar.com.my/starpicks/2021/09/19/continued-aid-for-victims-heirs',\n",
       " 'https://www.thestar.com.my/starpicks/2021/09/18/mark-your-calendar-for-huawei-wearable-and-audio-day',\n",
       " 'https://www.thestar.com.my/starpicks/2021/09/18/time-travel-to-the-70s',\n",
       " 'https://www.thestar.com.my/starpicks/2021/09/18/malaysia-day-celebration-highlights-keluarga-malaysia',\n",
       " 'https://www.thestar.com.my/starpicks/2021/09/18/qsr-brands-encourages-malaysians-to-be-vaccinated',\n",
       " 'https://www.thestar.com.my/starpicks/2021/09/17/get-vaccinated-and-win-big-with-aspen-groups-vax-to-win-campaign',\n",
       " 'https://www.thestar.com.my/starpicks/2021/09/17/delaying-cataract-treatment-can-cause-further-eye-damage',\n",
       " 'https://www.thestar.com.my/starpicks/2021/09/16/heres-the-covid-19-reset-that-might-save-the-malaysian-economy',\n",
       " 'https://www.thestar.com.my/starpicks/2021/09/16/pdb-supports-local-entrepreneurs-inspiring-hope-in-tough-times',\n",
       " 'https://www.thestar.com.my/starpicks/2021/09/16/striving-for-a-digitally-united-and-sovereign-malaysia',\n",
       " 'https://www.thestar.com.my/starpicks/2021/09/15/supplementing-your-childs-nutritional-needs',\n",
       " 'https://www.thestar.com.my/news/nation/2021/09/15/focus-on-high-value-added-activities',\n",
       " 'https://www.thestar.com.my/starpicks/2021/09/14/kfc-to-auction-limited-edition-buckets-featuring-messages-of-hope',\n",
       " 'https://www.thestar.com.my/starpicks/2021/09/14/join-the-lbs-fabulous-lucky-draw']"
      ]
     },
     "execution_count": 30,
     "metadata": {},
     "output_type": "execute_result"
    }
   ],
   "source": [
    "for i, ele in enumerate(filtered_links):\n",
    "    if not ele.startswith('https://www.thestar.com.my/'):\n",
    "        del filtered_links[i]\n",
    "print(f'No. of non-TheStar link: {len(filtered_links)}')\n",
    "filtered_links"
   ]
  },
  {
   "cell_type": "markdown",
   "metadata": {},
   "source": [
    "### Retrieve yesterday news"
   ]
  },
  {
   "cell_type": "code",
   "execution_count": 31,
   "metadata": {
    "scrolled": true
   },
   "outputs": [
    {
     "name": "stdout",
     "output_type": "stream",
     "text": [
      "No. of non-TheStar link: 86\n"
     ]
    },
    {
     "data": {
      "text/plain": [
       "['https://www.thestar.com.my/starpicks/2021/09/18/mark-your-calendar-for-huawei-wearable-and-audio-day?utm_medium=thestar&utm_source=rosnawidget&utm_campaign=20210918_Huawei',\n",
       " 'https://www.thestar.com.my/news/nation/2021/09/18/road-leading-to-camerons-via-simpang-pulai-closed-after-part-of-hillslope-collapses',\n",
       " 'https://www.thestar.com.my/news/nation/2021/09/18/sabah-govt-announces-further-relaxation-of-activities-for-fully-vaccinated-from-monday-sept-20',\n",
       " 'https://www.thestar.com.my/news/nation/2021/09/18/selangor-police-issue-423-compounds-for-disregarding-sop',\n",
       " 'https://www.thestar.com.my/news/nation/2021/09/18/over-2500-people-entering-langkawi-screened-one-tested-positive-for-covid-19-says-health-dg',\n",
       " 'https://www.thestar.com.my/news/nation/2021/09/18/landslide-area-at-kemensah-heights-declared-disaster-site-says-amirudin',\n",
       " 'https://www.thestar.com.my/news/nation/2021/09/18/bereaved-woman-loses-almost-rm400000-after-falling-for-love-scam',\n",
       " 'https://www.thestar.com.my/news/nation/2021/09/18/johor-ruler-urges-govt-to-reconsider-appealing-high-court039s-decision-on-children-born-to-malaysian-parents-abroad',\n",
       " 'https://www.thestar.com.my/aseanplus/aseanplus-news/2021/09/18/cambodia-mulls-fourth-dose-of-covid-19-jabs-cases-keep-rising-as-another-648-infections-are-reported',\n",
       " 'https://www.thestar.com.my/aseanplus/aseanplus-news/2021/09/18/covid-hit-chinese-city-xiamen-tells-residents-to-stay-home-as-holiday-starts',\n",
       " 'https://www.thestar.com.my/aseanplus/aseanplus-news/2021/09/18/singapore039s-well-known-toa-payoh-lorong-8-market-and-food-centre-closed-after-covid-19-cases-found',\n",
       " 'https://www.thestar.com.my/aseanplus/aseanplus-news/2021/09/18/indonesia-reinstates-tourist-limited-stay-visas-amid-declining-daily-covid-19-cases',\n",
       " 'https://www.thestar.com.my/aseanplus/aseanplus-news/2021/09/18/thailand-daily-covid-19-deaths-hit-7-week-low-health-ministry-confirms-122-deaths-on-saturday-sept-18',\n",
       " 'https://www.thestar.com.my/aseanplus/aseanplus-news/2021/09/18/united-states-and-australia-urged-to-stop-interfering-in-china039s-internal-affairs',\n",
       " 'https://www.thestar.com.my/aseanplus/aseanplus-news/2021/09/18/bats-in-laos-caves-found-to-carry-coronaviruses-that-share-key-feature-with-sars-cov-2',\n",
       " 'https://www.thestar.com.my/aseanplus/aseanplus-news/2021/09/18/brunei-receives-100000-vaccine-doses-from-australia-as-it-confirms-two-more-covid-19-deaths-and-143-ndw-cases',\n",
       " 'https://www.thestar.com.my/aseanplus/aseanplus-news/2021/09/18/singapore-eases-restrictions-for-travellers-from-more-countries-those-from-indonesia-can-also-transit-on-the-island',\n",
       " 'https://www.thestar.com.my/business/business-news/2021/09/18/hitting-the-reset-button-for-corporate-malaysia',\n",
       " 'https://www.thestar.com.my/business/business-news/2021/09/18/pick-up-in-deals-seen-in-near-term',\n",
       " 'https://www.thestar.com.my/business/business-news/2021/09/18/will-evergrande-remain-ever-grand',\n",
       " 'https://www.thestar.com.my/business/business-news/2021/09/18/cpo-futures-likely-to-see-technical-correction-next-week',\n",
       " 'https://www.thestar.com.my/business/business-news/2021/09/18/kwaps-journey-with-esg-investing',\n",
       " 'https://www.thestar.com.my/business/business-news/2021/09/18/too-early-to-predict',\n",
       " 'https://www.thestar.com.my/business/business-news/2021/09/18/the-18th-entry',\n",
       " 'https://www.thestar.com.my/business/business-news/2021/09/18/smes-in-dire-need-of-assistance',\n",
       " 'https://www.thestar.com.my/business/business-news/2021/09/18/evergrande-says-six-execs-redeemed-investment-products-in-advance',\n",
       " 'https://www.thestar.com.my/business/business-news/2021/09/18/positive-signs-for-top-glove',\n",
       " 'https://www.thestar.com.my/business/business-news/2021/09/18/short-position---johor-corp-restructuring-top-glove-digitil-isation',\n",
       " 'https://www.thestar.com.my/news/nation/2021/09/18/pm-grant-for-smes-to-be-given-out-from-next-week',\n",
       " 'https://www.thestar.com.my/business/business-news/2021/09/18/big-sales-jump-for-ecoworld-malaysia-in-q3',\n",
       " 'https://www.thestar.com.my/business/business-news/2021/09/18/airasia-x-recapitalisation-discussions-progressing-well',\n",
       " 'https://www.thestar.com.my/business/business-news/2021/09/18/astro-customers-in-for-more-content-treat',\n",
       " 'https://www.thestar.com.my/business/business-news/2021/09/18/brighter-outlook-for-malaysias-oil-and-gas-sector',\n",
       " 'https://www.thestar.com.my/business/business-news/2021/09/18/ceos-optimistic-of-recovery',\n",
       " 'https://www.thestar.com.my/business/smebiz/2021/09/18/enabling-digitalisation',\n",
       " 'https://www.thestar.com.my/business/business-news/2021/09/18/gadangs-subsidiary-bags-rm100mil-deal',\n",
       " 'https://www.thestar.com.my/business/smebiz/2021/09/18/getting-smes-on-the-digital-bandwagon',\n",
       " 'https://www.thestar.com.my/business/business-news/2021/09/18/bridging-the-financial-literacy-gap',\n",
       " 'https://www.thestar.com.my/business/business-news/2021/09/18/infineon-opens-austria-plant-early-in-chip-capacity-boost',\n",
       " 'https://www.thestar.com.my/business/business-news/2021/09/18/indonesia-may-reopen-to-tourists-from-some-countries-in-october',\n",
       " 'https://www.thestar.com.my/business/business-news/2021/09/18/airbus-reaches-deal-to-restructure-airasia-jet-order',\n",
       " 'https://www.thestar.com.my/business/business-news/2021/09/18/oil-price-falls-as-storm-hit-us-supply-trickles-back-into-market',\n",
       " 'https://www.thestar.com.my/business/business-news/2021/09/18/world-shares-fall-as-markets-await-fed-meeting-taper-timeline',\n",
       " 'https://www.thestar.com.my/sport/diving/2021/09/18/will-nur-dhabitah-smile-again-after-her-diving-father-leaves',\n",
       " 'https://www.thestar.com.my/sport/badminton/2021/09/18/razifs-son-fazriq-gets-new-partner-to-pursue-doubles-glory',\n",
       " 'https://www.thestar.com.my/news/nation/2021/09/18/veteran-sports-writer-ronnie-oh-breathes-his-last',\n",
       " 'https://www.thestar.com.my/sport/say-what/2021/09/18/go-where-your-heart-is-jin-wei-its-not-too-late-to-make-a-u-turn',\n",
       " 'https://www.thestar.com.my/sport/diving/2021/09/18/ms-eye-chinese-coach-to-replace-aussie-brooker',\n",
       " 'https://www.thestar.com.my/sport/football/2021/09/18/soccer-mourinho-believes-there-is-more-to-come-from-roma-despite-perfect-start',\n",
       " 'https://www.thestar.com.my/sport/football/2021/09/18/soccer-mbappe-expected-to-be-in-psg-squad-for-lyon-clash',\n",
       " 'https://www.thestar.com.my/sport/football/2021/09/18/soccer-more-to-come-from-039world-class039-thiago-says-liverpool-boss-klopp',\n",
       " 'https://www.thestar.com.my/metro/community-sports/2021/09/18/metrosport-forecast-challenge',\n",
       " 'https://www.thestar.com.my/metro/metro-news/2021/09/18/flavours-of-change',\n",
       " 'https://www.thestar.com.my/metro/community-sports/2021/09/18/on-form-chelsea-get-the-nod',\n",
       " 'https://www.thestar.com.my/metro/views/2021/09/18/give-some-thought-to-feral-cats',\n",
       " 'https://www.thestar.com.my/metro/community-sports/2021/09/18/can-palace-see-offliverpool-as-well',\n",
       " 'https://www.thestar.com.my/metro/metro-news/2021/09/18/sweet-note-of-appreciation',\n",
       " 'https://www.thestar.com.my/metro/metro-news/2021/09/18/rivers-waterfalls-in-selangor-forest-reserve-areas-off-limits',\n",
       " 'https://www.thestar.com.my/metro/metro-news/2021/09/18/road-users-in-klang-negotiate-large-potholes-every-day',\n",
       " 'https://www.thestar.com.my/metro/metro-news/2021/09/18/homestay-owners-remain-cautious',\n",
       " 'https://www.thestar.com.my/metro/metro-news/2021/09/18/gyms-geared-up-to-reopen',\n",
       " 'https://www.thestar.com.my/metro/metro-news/2021/09/18/shared-responsibility-to-aid-the-needy',\n",
       " 'https://www.thestar.com.my/lifestyle/culture/2021/09/18/zimbabwean-artist-turns-worthless-old-mugabe-era-banknotes-into-paintings',\n",
       " 'https://www.thestar.com.my/lifestyle/living/2021/09/18/7-hunting-dogs-that-make-good-house-pets',\n",
       " 'https://www.thestar.com.my/lifestyle/travel/2021/09/18/various-reactions-from-malaysians-over-langkawi-tourism-bubble',\n",
       " 'https://www.thestar.com.my/lifestyle/culture/2021/09/18/malaysian-artist-paints-an-intensely-flavoured-series-on-food-and-memory',\n",
       " 'https://www.thestar.com.my/lifestyle/culture/2021/09/18/first-she-was-a-survivor-metoos-tarana-burke-tells-her-story',\n",
       " 'https://www.thestar.com.my/lifestyle/entertainment/2021/09/18/seungkwan-from-k-pop039s-seventeen-exchanges-microphone-for-badminton-racket-in-new-variety-show',\n",
       " 'https://www.thestar.com.my/lifestyle/living/2021/09/18/greek-winemakers-delve-depths-of-underwater-ageing',\n",
       " 'https://www.thestar.com.my/lifestyle/family/2021/09/18/living-with-alzheimers',\n",
       " 'https://www.thestar.com.my/lifestyle/people/2021/09/18/study-shows-many-disabled-music-professionals-feel-unable-to-reveal-their-condition',\n",
       " 'https://www.thestar.com.my/lifestyle/travel/2021/09/18/time-for-malaysians-to-re-discover-langkawi-under-tourism-bubble',\n",
       " 'https://www.thestar.com.my/lifestyle/health/2021/09/18/plant-ing-that-zen-feeling-around-your-home',\n",
       " 'https://www.thestar.com.my/tech/tech-news/2021/09/18/what-to-expect-before-buying-an-escooter',\n",
       " 'https://www.thestar.com.my/tech/tech-news/2021/09/18/workplace-meetings-hit-the-road-as-microsoft-develops-teams-for-cars',\n",
       " 'https://www.thestar.com.my/tech/tech-news/2021/09/18/you-had-one-job-google039s-alarm-fails-countless-users-after-update',\n",
       " 'https://www.thestar.com.my/tech/tech-news/2021/09/18/barra-gm-will-make-039substantial-shifts039-in-supply-chain-over-chips',\n",
       " 'https://www.thestar.com.my/tech/tech-news/2021/09/18/india-antitrust-probe-finds-google-abused-android-dominance-report-shows',\n",
       " 'https://www.thestar.com.my/tech/tech-news/2021/09/18/chinese-version-of-tiktok-limits-use-of-app-by-those-under-14',\n",
       " 'https://www.thestar.com.my/tech/tech-news/2021/09/18/ireland-raises-privacy-question-over-facebook-smart-glasses',\n",
       " 'https://www.thestar.com.my/tech/tech-news/2021/09/18/work-together-or-fail-039operation-tango039-is-a-game-built-for-two',\n",
       " 'https://www.thestar.com.my/opinion/columnists/analysis/2021/09/18/muhyiddin-is-out-but-still-carries-clout',\n",
       " 'https://www.thestar.com.my/starpicks/2021/09/18/mark-your-calendar-for-huawei-wearable-and-audio-day',\n",
       " 'https://www.thestar.com.my/starpicks/2021/09/18/time-travel-to-the-70s',\n",
       " 'https://www.thestar.com.my/starpicks/2021/09/18/malaysia-day-celebration-highlights-keluarga-malaysia',\n",
       " 'https://www.thestar.com.my/starpicks/2021/09/18/qsr-brands-encourages-malaysians-to-be-vaccinated']"
      ]
     },
     "execution_count": 31,
     "metadata": {},
     "output_type": "execute_result"
    }
   ],
   "source": [
    "# Get yesterday date\n",
    "yesterday = datetime.now() - timedelta(1)\n",
    "date_required = f'{yesterday.year}/{yesterday.month:02d}/{yesterday.day:02d}'\n",
    "\n",
    "yesterday_links = []\n",
    "[yesterday_links.append(y) for y in filtered_links if re.search(date_required, y)]\n",
    "\n",
    "print(f'No. of non-TheStar link: {len(yesterday_links)}')\n",
    "yesterday_links"
   ]
  },
  {
   "cell_type": "code",
   "execution_count": 32,
   "metadata": {
    "scrolled": true
   },
   "outputs": [
    {
     "name": "stdout",
     "output_type": "stream",
     "text": [
      "Links to crawl: 3\n"
     ]
    },
    {
     "data": {
      "text/plain": [
       "['https://www.thestar.com.my/business/smebiz/2021/09/18/getting-smes-on-the-digital-bandwagon',\n",
       " 'https://www.thestar.com.my/business/business-news/2021/09/18/infineon-opens-austria-plant-early-in-chip-capacity-boost',\n",
       " 'https://www.thestar.com.my/business/business-news/2021/09/18/oil-price-falls-as-storm-hit-us-supply-trickles-back-into-market']"
      ]
     },
     "execution_count": 32,
     "metadata": {},
     "output_type": "execute_result"
    }
   ],
   "source": [
    "new_news = []\n",
    "try:\n",
    "    with open('checking.txt', 'r') as f:\n",
    "        checking_links = f.read().splitlines()\n",
    "        \n",
    "    if checking_links[0] == date_required:\n",
    "        with open('checking.txt', 'a') as f:\n",
    "            for url1 in yesterday_links:\n",
    "                for index, url2 in enumerate(checking_links):\n",
    "                    if url1 == url2:\n",
    "                        break\n",
    "                    elif index == len(checking_links) - 1:\n",
    "                        new_news.append(url1)\n",
    "                        f.write(url1 + '\\n')\n",
    "    else:\n",
    "        with open('checking.txt', 'w') as f:\n",
    "            f.write(date_required + '\\n')\n",
    "            for url in yesterday_links:\n",
    "                new_news.append(url)\n",
    "                f.write(url + '\\n')  \n",
    "\n",
    "except FileNotFoundError:\n",
    "    with open('checking.txt', 'w') as f:\n",
    "        f.write(date_required + '\\n')\n",
    "        for url in yesterday_links:\n",
    "            new_news.append(url)\n",
    "            f.write(url + '\\n')       \n",
    "                    \n",
    "print(f'Links to crawl: {len(new_news)}')\n",
    "new_news"
   ]
  },
  {
   "cell_type": "markdown",
   "metadata": {},
   "source": [
    "### Browse through each url and crawl the news content"
   ]
  },
  {
   "cell_type": "code",
   "execution_count": 33,
   "metadata": {
    "scrolled": true
   },
   "outputs": [
    {
     "name": "stdout",
     "output_type": "stream",
     "text": [
      "https://www.thestar.com.my/business/smebiz/2021/09/18/getting-smes-on-the-digital-bandwagon\n",
      "Saturday, 18 Sep 2021\n",
      "\n",
      "Getting SMEs on the digital bandwagon\n",
      "Business\n",
      "\n",
      "MALAYSIA Digital Economy Corp (MDEC) will be collaborating with the Centre of Entrepreneur Development And Research (Cedar), a subsidiary of SME Bank, to enable SMEs to adopt digitalisation.Cedar has been appointed as a partner in MDEC’s SME Digital Accelerator programme, where it aims to train 1,000 businesses and match them with digital solutions and incentive facilities.The programme provides SMEs with a structured approach to kick-start their digital adoption journey and ensure implementation with outcome-based results.Qualified and registered SMEs will participate in a three-day online training workshop where they will be exposed to ‘Lean Model Canvas’ and ‘Design Thinking’ modules, plus technology matching with a choice of over 400 technology solution providers (TSPs).“SMEs are hit hard by the pandemic and need to relook at various aspects of their business beyond digital marketing.“Operations need to be optimised, and digital technology is a key enabler.“Many SMEs are still in the dark on how to take the first step to adopt digitalisation and the SME Digital Accelerator programme aims to help them overcome barriers hindering digital adoption and propel the business further as we chart our course towards economic recovery,” says MDEC chief executive officer Mahadhir Aziz.Facilities for SMEs in adopting digital solutions include SME Digitalisation Grant announced by the government along with the SME Technology Transformation Fund (STTF) financing by SME Bank.“SME Bank, through our subsidiary Cedar, provides development solutions beyond financing in helping SMEs weather the impact of Covid-19 and towards recovery,” adds SME Bank group president and CEO Aria Putera Ismail.Other facilities provided by Cedar include ScoreXcess, a digital platform that enables entrepreneurs to apply for business financing online from multiple financing agencies or institutions simultaneously through one single application, and ODELA, a self-regulated business-to-business e-commerce platform.\n",
      "1\n",
      "https://www.thestar.com.my/business/business-news/2021/09/18/infineon-opens-austria-plant-early-in-chip-capacity-boost\n",
      "Saturday, 18 Sep 2021\n",
      "6:59 AM MYT\n",
      "Infineon opens Austria plant early in chip capacity boost\n",
      "Business\n",
      "\n",
      "VILLACH, Austria: Germany's Infineon opened a 1.6 billion euro ($1.9 billion) plant in Austria on Friday, boosting its ability to supply power chips for cars, data centres and renewable power.Infineon is adding capacity as global semiconductor supply chains remain under extreme stress, with most leading carmakers being forced to idle production due to chip shortages.The Villach factory, ready three months early, will make chips on 300 mm wafers thinner than a human hair, operating in tandem as a 'megafab' with an existing German plant in Dresden.\"Our timing in adding new capacity couldn't be better, considering growing demand for power-management semiconductors,\" CEO Reinhard Ploss said before an opening ceremony with Austrian Chancellor Sebastian Kurz and EU Commissioner Thierry Breton.Ploss said that Infineon would not gouge buyers currently willing to pay astronomical prices, but it did need to defray the investment costs it faces to meet booming demand. \"We expect significant price increases,\" he told reporters.Infineon has raised its forecast of revenues from Villach to 2 billion euros from 1.8 billion, which reflected higher selling prices rather than increased volumes. The Dresden-Villach megafab could generate combined revenue of 5 billion euros.Munich-based Infineon, the leading supplier to the auto industry, has itself faced problems meeting delivery commitments after a winter storm knocked out a plant in the United States and coronavirus lockdowns disrupted operations in Malaysia.The extra production of specialist power chips in Villach will serve growing demand for electric vehicles, datacenters and wind and solar power facilities.But it will not immediately ease the broader semiconductor crunch, where Infineon has struggled with bottlenecks in \"back-end\" facilities where chips are packaged into final products.Ploss declined to be drawn on Infineon's investment plans, saying that at its projected long-term growth rate in revenue of 9% \"now and again you are going to need a new factory\".The higher labour content in back-end production meant that Infineon would likely focus on lower-cost centres such as Southeast Asia and Mexico where it is already present rather than new European plants, operations chief Jochen Hanebeck said. ($1 = 0.8490 euros)- Reuters\n",
      "2\n",
      "https://www.thestar.com.my/business/business-news/2021/09/18/oil-price-falls-as-storm-hit-us-supply-trickles-back-into-market\n",
      "Saturday, 18 Sep 2021\n",
      "6:37 AM MYT\n",
      "Oil price falls as storm-hit US supply trickles back into market\n",
      "Business\n",
      "\n",
      "NEW YORK,: Oil prices fell on Friday as energy companies in the U.S. Gulf of Mexico restarted production after back-to-back hurricanes in the region shut output.Brent crude futures fell 33 cents to settle at US$75.34 a barrel. U.S. West Texas Intermediate (WTI) crude futures fell 64 cents to settle at $71.97 a barrel. For the week, Brent was up 3.3% and U.S. crude was up 3.2%, supported by tight supplies due to the hurricane outages.Friday's slump followed five straight sessions of rises for Brent. On Wednesday, Brent hit its highest since late July, and U.S. crude hit its highest since early August.\"The reason oil prices reached such highs in the last few days was clearly supply disruptions and drawdowns in inventories, so now that U.S. oil production is returning, oil as expected trades lower,\" said Nishant Bhushan, Rystad Energy's oil markets analyst.Gulf Coast crude oil exports are flowing again after hurricanes Nicholas and Ida took out 26 million barrels of offshore production. Restarts continued with about 28% of U.S. Gulf of Mexico crude output offline, Reuters reported on Thursday.U.S. energy firms this week added oil and natural gas rigs for a second week in a row although the number of offshore units in the Gulf of Mexico remained unchanged after Hurricane Ida slammed into the coast over two weeks ago.Fourteen offshore Gulf of Mexico rigs shut two weeks ago due to Ida remained shut, energy services firm Baker Hughes Co said. Last week, four offshore rigs returned to service.The oil and gas rig count, an early indicator of future output, rose nine to 512 in the week to Sept. 17, its highest since April 2020, Baker Hughes said.The dollar climbed to a multi-week high on Friday, making dollar-denominated crude more expensive for those using other currencies. The dollar got a boost from better-than-expected U.S. retail sales data on Thursday.U.S. consumer sentiment steadied in early September after plunging the month before to its lowest level in nearly a decade, but consumers remain worried about inflation, a survey showed on Friday.- Reuters\n",
      "3\n"
     ]
    }
   ],
   "source": [
    "for link in new_news:\n",
    "    driver = webdriver.Chrome()\n",
    "    url = f\"{link}\"\n",
    "    print(link)\n",
    "    driver.get(url)\n",
    "\n",
    "    try:\n",
    "        title = driver.find_element_by_tag_name('h1').text\n",
    "    except NoSuchElementException:\n",
    "        driver.close()\n",
    "        driver.quit()\n",
    "        continue\n",
    "\n",
    "    try:\n",
    "        author = driver.find_elements_by_xpath(\".//div[@class = 'credit__authors']/a\")\n",
    "        author = toList(author, 'text')\n",
    "        author = re.sub(\",\", \" \", '，'.join(author))\n",
    "    except NoSuchElementException:\n",
    "        author = ''\n",
    "        pass\n",
    "\n",
    "    try:\n",
    "        date = driver.find_element_by_xpath(\".//p[@class = 'date']\").text\n",
    "    except NoSuchElementException:\n",
    "        date = ''\n",
    "        pass\n",
    "\n",
    "    try:\n",
    "        timestamp = driver.find_element_by_xpath(\".//time[@class = 'timestamp']\").text\n",
    "    except NoSuchElementException:\n",
    "        timestamp = ''\n",
    "        pass\n",
    "\n",
    "    # Extract all the text of the news content\n",
    "    parent = driver.find_element_by_id('story-body')\n",
    "    content = list(parent.text.split('\\n'))\n",
    "\n",
    "    # The following 4 statements are to extract all irrelevant content such as chart and image caption\n",
    "    chart_text = parent.find_elements_by_xpath(\".//div[contains(@class, 'flourish')]\")\n",
    "    inline_text = parent.find_elements_by_xpath(\".//span[contains(@class, 'inline-caption')]\")\n",
    "    caption_text = parent.find_elements_by_xpath(\".//p[contains(@class, 'caption')]\")\n",
    "    extra_text = chart_text + inline_text + caption_text\n",
    "\n",
    "    full_content = toList(extra_text, 'text')\n",
    "    full_content = list(set(full_content))\n",
    "\n",
    "    # Filter out irrelevant content\n",
    "    for index, i in enumerate(content):\n",
    "        for j in full_content:\n",
    "            if i == j:\n",
    "                content[index] = ''\n",
    "\n",
    "    # Remove the enter and empty field from the extracted news content\n",
    "    real_content = ''\n",
    "    for element in content:\n",
    "        real_content += element\n",
    "\n",
    "    # Determine the type of the news by using the url\n",
    "    for category in all_type:\n",
    "        string = f\"https://www.thestar.com.my/{category.lower()}\"\n",
    "        result = re.search(string, link)\n",
    "        if result is not None:\n",
    "            break\n",
    "\n",
    "    print(date)\n",
    "    print(timestamp)\n",
    "    print(title)\n",
    "    print(category)\n",
    "    print(author)\n",
    "    print(real_content)\n",
    "\n",
    "    news_items = {'Date': date, 'Time': timestamp, 'Type': category, 'Author': author, 'Title': title, 'Content': real_content}\n",
    "    news_list.append(news_items)\n",
    "    print(len(news_list))\n",
    "    driver.close()\n",
    "    driver.quit()\n",
    "    time.sleep(3)"
   ]
  },
  {
   "cell_type": "markdown",
   "metadata": {},
   "source": [
    "### Store the crawled data into data frame"
   ]
  },
  {
   "cell_type": "code",
   "execution_count": 34,
   "metadata": {
    "scrolled": true
   },
   "outputs": [
    {
     "data": {
      "text/html": [
       "<div>\n",
       "<style scoped>\n",
       "    .dataframe tbody tr th:only-of-type {\n",
       "        vertical-align: middle;\n",
       "    }\n",
       "\n",
       "    .dataframe tbody tr th {\n",
       "        vertical-align: top;\n",
       "    }\n",
       "\n",
       "    .dataframe thead th {\n",
       "        text-align: right;\n",
       "    }\n",
       "</style>\n",
       "<table border=\"1\" class=\"dataframe\">\n",
       "  <thead>\n",
       "    <tr style=\"text-align: right;\">\n",
       "      <th></th>\n",
       "      <th>Date</th>\n",
       "      <th>Time</th>\n",
       "      <th>Type</th>\n",
       "      <th>Author</th>\n",
       "      <th>Title</th>\n",
       "      <th>Content</th>\n",
       "    </tr>\n",
       "  </thead>\n",
       "  <tbody>\n",
       "    <tr>\n",
       "      <th>0</th>\n",
       "      <td>Saturday, 18 Sep 2021</td>\n",
       "      <td></td>\n",
       "      <td>Business</td>\n",
       "      <td></td>\n",
       "      <td>Getting SMEs on the digital bandwagon</td>\n",
       "      <td>MALAYSIA Digital Economy Corp (MDEC) will be c...</td>\n",
       "    </tr>\n",
       "    <tr>\n",
       "      <th>2</th>\n",
       "      <td>Saturday, 18 Sep 2021</td>\n",
       "      <td>6:37 AM MYT</td>\n",
       "      <td>Business</td>\n",
       "      <td></td>\n",
       "      <td>Oil price falls as storm-hit US supply trickle...</td>\n",
       "      <td>NEW YORK,: Oil prices fell on Friday as energy...</td>\n",
       "    </tr>\n",
       "    <tr>\n",
       "      <th>1</th>\n",
       "      <td>Saturday, 18 Sep 2021</td>\n",
       "      <td>6:59 AM MYT</td>\n",
       "      <td>Business</td>\n",
       "      <td></td>\n",
       "      <td>Infineon opens Austria plant early in chip cap...</td>\n",
       "      <td>VILLACH, Austria: Germany's Infineon opened a ...</td>\n",
       "    </tr>\n",
       "  </tbody>\n",
       "</table>\n",
       "</div>"
      ],
      "text/plain": [
       "                    Date         Time      Type Author  \\\n",
       "0  Saturday, 18 Sep 2021               Business          \n",
       "2  Saturday, 18 Sep 2021  6:37 AM MYT  Business          \n",
       "1  Saturday, 18 Sep 2021  6:59 AM MYT  Business          \n",
       "\n",
       "                                               Title  \\\n",
       "0              Getting SMEs on the digital bandwagon   \n",
       "2  Oil price falls as storm-hit US supply trickle...   \n",
       "1  Infineon opens Austria plant early in chip cap...   \n",
       "\n",
       "                                             Content  \n",
       "0  MALAYSIA Digital Economy Corp (MDEC) will be c...  \n",
       "2  NEW YORK,: Oil prices fell on Friday as energy...  \n",
       "1  VILLACH, Austria: Germany's Infineon opened a ...  "
      ]
     },
     "execution_count": 34,
     "metadata": {},
     "output_type": "execute_result"
    }
   ],
   "source": [
    "data = pd.DataFrame(news_list)\n",
    "data = data.sort_values('Time')\n",
    "data.head()"
   ]
  },
  {
   "cell_type": "code",
   "execution_count": 35,
   "metadata": {},
   "outputs": [
    {
     "name": "stdout",
     "output_type": "stream",
     "text": [
      "Shape    :  (3, 6)\n"
     ]
    }
   ],
   "source": [
    "print(\"Shape    : \", data.shape)"
   ]
  },
  {
   "cell_type": "markdown",
   "metadata": {},
   "source": [
    "### Store news to csv file"
   ]
  },
  {
   "cell_type": "code",
   "execution_count": 36,
   "metadata": {
    "scrolled": true
   },
   "outputs": [],
   "source": [
    "data.to_csv('News.csv', mode = 'a', index = False, header = False)"
   ]
  },
  {
   "cell_type": "code",
   "execution_count": 37,
   "metadata": {},
   "outputs": [
    {
     "name": "stdout",
     "output_type": "stream",
     "text": [
      "Shape    :  (331, 6)\n"
     ]
    }
   ],
   "source": [
    "df = pd.read_csv('News.csv')\n",
    "print(\"Shape    : \", df.shape)"
   ]
  }
 ],
 "metadata": {
  "kernelspec": {
   "display_name": "Python 3",
   "language": "python",
   "name": "python3"
  },
  "language_info": {
   "codemirror_mode": {
    "name": "ipython",
    "version": 3
   },
   "file_extension": ".py",
   "mimetype": "text/x-python",
   "name": "python",
   "nbconvert_exporter": "python",
   "pygments_lexer": "ipython3",
   "version": "3.8.5"
  }
 },
 "nbformat": 4,
 "nbformat_minor": 4
}
