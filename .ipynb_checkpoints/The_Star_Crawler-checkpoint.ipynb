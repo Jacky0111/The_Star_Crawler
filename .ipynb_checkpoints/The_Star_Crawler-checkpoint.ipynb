{
 "cells": [
  {
   "cell_type": "code",
   "execution_count": 229,
   "metadata": {},
   "outputs": [],
   "source": [
    "import re\n",
    "import time\n",
    "import pandas as pd\n",
    "from datetime import datetime, timedelta\n",
    "\n",
    "from selenium import webdriver\n",
    "from selenium.webdriver.common.action_chains import ActionChains\n",
    "from selenium.common.exceptions import ElementClickInterceptedException, TimeoutException, NoSuchElementException\n",
    "from selenium.webdriver.chrome.options import Options\n",
    "from selenium.webdriver.common.by import By\n",
    "from selenium.webdriver.support.wait import WebDriverWait\n",
    "from selenium.webdriver.support import expected_conditions as EC"
   ]
  },
  {
   "cell_type": "markdown",
   "metadata": {},
   "source": [
    "### Click the \"Load More\" button for scraping more news"
   ]
  },
  {
   "cell_type": "code",
   "execution_count": 230,
   "metadata": {},
   "outputs": [],
   "source": [
    "def extendPage():\n",
    "    while True:\n",
    "        try:\n",
    "            try:\n",
    "                # Just to locate to the Load More button to be clicked\n",
    "                load_more = driver.find_element_by_class_name('quicklinks')\n",
    "                actions = ActionChains(driver)\n",
    "                actions.move_to_element(load_more).perform()\n",
    "            except NoSuchElementException:\n",
    "                print('Skip')\n",
    "                break\n",
    "            except StaleElementReferenceException:\n",
    "                print('Skip')\n",
    "                break\n",
    "\n",
    "            WebDriverWait(driver, 10).until(\n",
    "                EC.element_to_be_clickable((By.ID, \"loadMorestories\"))).click()\n",
    "            break\n",
    "        except ElementClickInterceptedException:\n",
    "            print(\"Try again\")\n",
    "            pass\n",
    "        except TimeoutException:\n",
    "            print(\"Try again\")\n",
    "            pass\n",
    "        except NoSuchElementException:\n",
    "            print(\"Try again\")\n",
    "            pass"
   ]
  },
  {
   "cell_type": "markdown",
   "metadata": {},
   "source": [
    "### Iterate the given list to text or url"
   ]
  },
  {
   "cell_type": "code",
   "execution_count": 231,
   "metadata": {},
   "outputs": [],
   "source": [
    "def toList(given_list, condition):\n",
    "    convert = []\n",
    "    for i in given_list:\n",
    "        if condition == 'link':\n",
    "            convert.append(i.get_attribute('href'))\n",
    "        else:\n",
    "            convert.append(i.text)\n",
    "    non_empty_ele = [j for j in convert if j]\n",
    "    return non_empty_ele"
   ]
  },
  {
   "cell_type": "markdown",
   "metadata": {},
   "source": [
    "### Activate chrome driver"
   ]
  },
  {
   "cell_type": "code",
   "execution_count": 232,
   "metadata": {},
   "outputs": [],
   "source": [
    "driver = webdriver.Chrome()\n",
    "driver.get('https://www.thestar.com.my/')\n",
    "time.sleep(10)"
   ]
  },
  {
   "cell_type": "markdown",
   "metadata": {},
   "source": [
    "### Extract all types of news"
   ]
  },
  {
   "cell_type": "code",
   "execution_count": 233,
   "metadata": {},
   "outputs": [
    {
     "name": "stdout",
     "output_type": "stream",
     "text": [
      "['StarPlus', 'News', 'Asean+', 'Business', 'Sport', 'Metro', 'Lifestyle', 'Food', 'Tech', 'Education', 'Opinion', 'StarPicks']\n"
     ]
    }
   ],
   "source": [
    "types = driver.find_elements_by_xpath(\".//li[@class = 'dropdown']\")\n",
    "all_type = toList(types, 'text')\n",
    "all_type.remove('Videos')\n",
    "all_type.remove('Photos')\n",
    "print(all_type)"
   ]
  },
  {
   "cell_type": "code",
   "execution_count": 234,
   "metadata": {},
   "outputs": [],
   "source": [
    "links_list = []\n",
    "news_list = []"
   ]
  },
  {
   "cell_type": "markdown",
   "metadata": {},
   "source": [
    "### Browse through every type of webpage, scrape the links and store into a list\n"
   ]
  },
  {
   "cell_type": "code",
   "execution_count": 235,
   "metadata": {},
   "outputs": [
    {
     "name": "stdout",
     "output_type": "stream",
     "text": [
      "//a[contains(text(), 'StarPlus')]\n",
      "Skip\n",
      "27\n",
      "//a[contains(text(), 'News')]\n",
      "76\n",
      "//a[contains(text(), 'Asean+')]\n",
      "Skip\n",
      "115\n",
      "//a[contains(text(), 'Business')]\n",
      "165\n",
      "//a[contains(text(), 'Sport')]\n",
      "214\n",
      "//a[contains(text(), 'Metro')]\n",
      "263\n",
      "//a[contains(text(), 'Lifestyle')]\n",
      "Skip\n",
      "305\n",
      "//a[contains(text(), 'Food')]\n",
      "344\n",
      "//a[contains(text(), 'Tech')]\n",
      "Skip\n",
      "383\n",
      "//a[contains(text(), 'Education')]\n",
      "Skip\n",
      "393\n",
      "//a[contains(text(), 'Opinion')]\n",
      "Skip\n",
      "420\n",
      "//a[contains(text(), 'StarPicks')]\n",
      "Skip\n",
      "437\n"
     ]
    }
   ],
   "source": [
    "for element in all_type:\n",
    "    xpath = f\"//a[contains(text(), '{element}')]\"\n",
    "    WebDriverWait(driver, 10).until(\n",
    "        EC.element_to_be_clickable((By.XPATH, xpath))).click()\n",
    "    print(xpath)\n",
    "    extendPage()\n",
    "\n",
    "    travel1 = driver.find_elements_by_xpath(\".//main//div[5]//h2/a\")\n",
    "    if element.lower() == 'starplus' or element.lower() == 'business' or element.lower() == 'lifestyle' or element.lower() == 'opinion':\n",
    "        travel2 = driver.find_elements_by_xpath(\".//main//div[6]//h2/a\")\n",
    "    else:\n",
    "        travel2 = driver.find_elements_by_xpath(\".//main//div[6]/div/div/div[2]//h2/a\")\n",
    "\n",
    "    links_list1 = toList(travel1, 'link')\n",
    "    links_list2 = toList(travel2, 'link')\n",
    "    links_list = links_list + links_list1 + links_list2\n",
    "    print(len(links_list))\n",
    "\n",
    "driver.close()\n",
    "driver.quit()"
   ]
  },
  {
   "cell_type": "markdown",
   "metadata": {},
   "source": [
    "### Remove duplicates from list\n"
   ]
  },
  {
   "cell_type": "code",
   "execution_count": 236,
   "metadata": {
    "scrolled": true
   },
   "outputs": [
    {
     "name": "stdout",
     "output_type": "stream",
     "text": [
      "No. of non-duplicated link: 295\n"
     ]
    }
   ],
   "source": [
    "filtered_links = []\n",
    "[filtered_links.append(x) for x in links_list if x not in filtered_links]\n",
    "print(f'No. of non-duplicated link: {len(filtered_links)}')"
   ]
  },
  {
   "cell_type": "markdown",
   "metadata": {},
   "source": [
    "### Considering the Food category contains some recipes which will lead to another web page, therefore I decided to remove non The Star link here\n"
   ]
  },
  {
   "cell_type": "code",
   "execution_count": 237,
   "metadata": {
    "scrolled": true
   },
   "outputs": [
    {
     "name": "stdout",
     "output_type": "stream",
     "text": [
      "No. of non-TheStar link: 293\n"
     ]
    },
    {
     "data": {
      "text/plain": [
       "['https://www.thestar.com.my/news/nation/2021/09/16/interactive-the-bahasa-in-malaysia',\n",
       " 'https://www.thestar.com.my/news/nation/2021/08/27/interactive-over-two-million-students-eligible-for-vaccination',\n",
       " 'https://www.thestar.com.my/starpicks/2021/09/13/shaping-doctors-of-the-future?utm_medium=thestar&utm_source=rosnawidget&utm_campaign=Monash+Uni+13Sep21',\n",
       " 'https://www.thestar.com.my/news/nation/2021/09/09/interactive-from-the-desks-of-our-journalists',\n",
       " 'https://www.thestar.com.my/news/nation/2021/09/02/interactive-how-to-boost-vaccinations-in-malaysia039s-six-target-states',\n",
       " 'https://www.thestar.com.my/news/nation/2021/09/02/interactive-how-much-are-you-at-risk-from-accidents-at-work',\n",
       " 'https://www.thestar.com.my/news/nation/2021/08/19/interactive-hospital-admissions-and-icu-cases-fall-in-some-states-as-vaccinations-rise',\n",
       " 'https://www.thestar.com.my/news/nation/2021/08/10/unvaccinated-form-bulk-of-malaysia039s-new-covid-19-cases',\n",
       " 'https://www.thestar.com.my/news/nation/2021/08/05/interactive-in-a-greying-malaysia-youths-opt-to-remain-single',\n",
       " 'https://www.thestar.com.my/news/nation/2021/08/02/interactive-malaysia-weekly-covid-19-cases-rise-by-29-deaths-up-8',\n",
       " 'https://www.thestar.com.my/news/nation/2021/08/01/interactive-do-you-have-what-it-takes-to-be-the-next-badminton-superstar',\n",
       " 'https://www.thestar.com.my/news/nation/2021/08/01/klang-valley-close-to-100-first-dose-vaccinations',\n",
       " 'https://www.thestar.com.my/news/nation/2021/07/23/malaysia039s-vaccination-rate-speeds-past-the-us',\n",
       " 'https://www.thestar.com.my/news/nation/2021/07/18/interactive-durian-season-is-in-full-swing-and-here039s-what-you-need-to-know',\n",
       " 'https://www.thestar.com.my/news/nation/2021/07/13/interactive-how-fake-news-about-covid-19-has-shifted-and-what-to-look-out-for',\n",
       " 'https://www.thestar.com.my/news/nation/2021/07/08/interactive-which-states-might-be-next-to-move-to-phase-two-of-the-national-recovery-plan-find-out-here',\n",
       " 'https://www.thestar.com.my/starpicks/2021/09/12/committed-to-changing-lives?utm_medium=thestar&utm_source=rosnawidget&utm_campaign=Coway+120921',\n",
       " 'https://www.thestar.com.my/starpicks/2021/09/07/developing-passionate-early-childhood-educators?utm_medium=thestar&utm_source=rosnawidget&utm_campaign=Help+University+7Sep21',\n",
       " 'https://www.thestar.com.my/starpicks/2021/09/06/taking-a-multidisciplinary-approach-to-healthcare-at-monash?utm_medium=thestar&utm_source=rosnawidget&utm_campaign=Monash+Uni+6Sep21',\n",
       " 'https://www.thestar.com.my/starpicks/2021/09/15/supplementing-your-childs-nutritional-needs?utm_medium=thestar&utm_source=rosnawidget&utm_campaign=Shyan+15Sep21',\n",
       " 'https://www.thestar.com.my/starpicks/2021/09/14/kfc-to-auction-limited-edition-buckets-featuring-messages-of-hope?utm_medium=thestar&utm_source=rosnawidget&utm_campaign=20210914_QSR',\n",
       " 'https://www.thestar.com.my/news/nation/2021/09/10/prevent-suicide-together-creating-hope-through-action?utm_medium=thestar&utm_source=rosnawidget&utm_campaign=KKM+10Sep21',\n",
       " 'https://www.thestar.com.my/starpicks/2021/09/14/join-the-lbs-fabulous-lucky-draw?utm_medium=thestar&utm_source=rosnawidget&utm_campaign=LBS+Bina+14Sep21',\n",
       " 'https://www.thestar.com.my/starpicks/2021/09/18/mark-your-calendar-for-huawei-wearable-and-audio-day?utm_medium=thestar&utm_source=rosnawidget&utm_campaign=20210918_Huawei',\n",
       " 'https://www.thestar.com.my/starpicks/2021/09/16/pdb-supports-local-entrepreneurs-inspiring-hope-in-tough-times?utm_medium=thestar&utm_source=rosnawidget&utm_campaign=Petronas+Dagangan+16Sep21',\n",
       " 'https://www.thestar.com.my/news/nation/2021/09/18/selangor-police-issue-423-compounds-for-disregarding-sop',\n",
       " 'https://www.thestar.com.my/news/nation/2021/09/18/landslide-area-at-kemensah-heights-declared-disaster-site-says-amirudin',\n",
       " 'https://www.thestar.com.my/news/nation/2021/09/18/ongkili-any-new-deal-for-sabah-sarawak-must-use-ma63-as-foundational-reference-point',\n",
       " 'https://www.thestar.com.my/news/nation/2021/09/18/dr-wee-more-public-transport-expected-to-operate-in-october',\n",
       " 'https://www.thestar.com.my/news/nation/2021/09/18/three-localities-in-pahang-one-in-sabah-under-emco-from-monday-sept-19',\n",
       " 'https://www.thestar.com.my/news/world/2021/09/18/australia-made-039huge039-mistake039-cancelling-submarine-deal-says-french-ambassador',\n",
       " 'https://www.thestar.com.my/news/nation/2021/09/18/covid-19-army039s-greater-klang-valley-task-force-ceases-operation-says-hishammuddin',\n",
       " 'https://www.thestar.com.my/news/nation/2021/09/18/over-2500-people-entering-langkawi-screened-one-tested-positive-for-covid-19-says-health-dg',\n",
       " 'https://www.thestar.com.my/news/nation/2021/09/18/man-found-drowned-while-trying-to-save-friend-in-kuala-kubu-bharu',\n",
       " 'https://www.thestar.com.my/news/nation/2021/09/18/foreign-ministry-monitoring-case-of-malaysian-detained-in-somalia',\n",
       " 'https://www.thestar.com.my/starpicks/2021/09/18/mark-your-calendar-for-huawei-wearable-and-audio-day?utm_medium=thestar&utm_source=secpmnewslisting&utm_campaign=20210918_Huawei',\n",
       " 'https://www.thestar.com.my/news/true-or-not/2021/09/18/health-ministry-investigating-viral-post-offering-fake-vaccine-certificates',\n",
       " 'https://www.thestar.com.my/news/nation/2021/09/18/plus-11-more-highway-rr-lay-bys-reopen-for-dine-in',\n",
       " 'https://www.thestar.com.my/news/nation/2021/09/18/bereaved-woman-loses-almost-rm400000-after-falling-for-love-scam',\n",
       " 'https://www.thestar.com.my/news/world/2021/09/18/australian-police-clash-with-anti-lockdown-protesters-arrest-nearly-270',\n",
       " 'https://www.thestar.com.my/news/nation/2021/09/18/govt-to-continue-giving-out-haj-subsidy-says-minister',\n",
       " 'https://www.thestar.com.my/news/nation/2021/09/18/johor-ruler-urges-govt-to-reconsider-appealing-high-court039s-decision-on-children-born-to-malaysian-parents-abroad',\n",
       " 'https://www.thestar.com.my/news/nation/2021/09/18/yes-to-strengthening-relations-no-to-nuclear-submarines-pm-tells-australia',\n",
       " 'https://www.thestar.com.my/news/nation/2021/09/18/centre-point-sabah-unable-to-construct-sky-bridge-opening-this-year',\n",
       " 'https://www.thestar.com.my/news/nation/2021/09/18/another-seven-month-extension-for-learners-driver-licence-says-dr-wee',\n",
       " 'https://www.thestar.com.my/news/nation/2021/09/18/ronnie-chieng-and-gin-lee-get-thumbs-up-from-johor-sultan',\n",
       " 'https://www.thestar.com.my/news/nation/2021/09/18/hr-ministry-to-table-proposal-to-provide-free-socso-protection-for-2-million-b40-housewives',\n",
       " 'https://www.thestar.com.my/news/nation/2021/09/18/11-year-old-drowns-in-the-kinta-river-while-out-playing-with-friends',\n",
       " 'https://www.thestar.com.my/news/nation/2021/09/18/veteran-sports-writer-ronnie-oh-breathes-his-last',\n",
       " 'https://www.thestar.com.my/news/nation/2021/09/18/103-residents-evacuated-from-their-homes-after-kemensah-landslide',\n",
       " 'https://www.thestar.com.my/news/nation/2021/09/18/three-days-to-prepare-technical-report-on-kemensah-heights-landslide-says-azmin',\n",
       " 'https://www.thestar.com.my/news/nation/2021/09/18/kuantan-road-market-ordered-closed-after-nine-covid-19-cases-found',\n",
       " 'https://www.thestar.com.my/news/nation/2021/09/18/finance-minister-bpr-applicants-can-start-checking-eligibility-from-saturday-sept-18',\n",
       " 'https://www.thestar.com.my/news/nation/2021/09/18/king-queen-arrive-in-london-for-special-visit-to-uk',\n",
       " 'https://www.thestar.com.my/news/nation/2021/09/18/sultan-nazrin-appoints-perak-council-of-regency',\n",
       " 'https://www.thestar.com.my/news/nation/2021/09/18/fire-damages-three-houses-in-penang039s-kampung-jelutong-barat',\n",
       " 'https://www.thestar.com.my/news/nation/2021/09/18/landslide-at-kemensah-heights-believed-due-to-underground-water-flow-says-fire-dept',\n",
       " 'https://www.thestar.com.my/news/nation/2021/09/18/datuk-ken-and-wife-deny-using-home-as-gambling-den',\n",
       " 'https://www.thestar.com.my/news/nation/2021/09/18/couple-busy-meeting-high-demand-for-rabbit-meat',\n",
       " 'https://www.thestar.com.my/news/nation/2021/09/18/pm-grant-for-smes-to-be-given-out-from-next-week',\n",
       " 'https://www.thestar.com.my/news/nation/2021/09/18/johor-ruler-to-meet-pm-over-new-criteria-for-mm2h',\n",
       " 'https://www.thestar.com.my/news/nation/2021/09/18/langkawis-top-hotels-enjoy-high-occupancy',\n",
       " 'https://www.thestar.com.my/aseanplus/aseanplus-news/2021/09/18/bats-in-laos-caves-found-to-carry-coronaviruses-that-share-key-feature-with-sars-cov-2',\n",
       " 'https://www.thestar.com.my/aseanplus/aseanplus-news/2021/09/18/039burnt-out039-exhausted-and-tired-philippine-nurses-battle-covid-19-and-resignations',\n",
       " 'https://www.thestar.com.my/aseanplus/aseanplus-news/2021/09/18/vietnam-ho-chi-minh-city-to-restart-construction-works-in-october',\n",
       " 'https://www.thestar.com.my/aseanplus/aseanplus-news/2021/09/18/shanghai-encourages-039duty-free-economy039-as-part-of-consumer-push',\n",
       " 'https://www.thestar.com.my/aseanplus/aseanplus-news/2021/09/18/chinas-carbon-neutral-goal-beijing-approves-creation-of-power-grid-equipment-giant-to-meet-decarbonisation-needs',\n",
       " 'https://www.thestar.com.my/aseanplus/aseanplus-news/2021/09/18/myanmar-covid-19-cases-continue-to-rise---health-ministry-reports-2187-new-cases-75-more-deaths',\n",
       " 'https://www.thestar.com.my/aseanplus/aseanplus-news/2021/09/18/brunei-receives-100000-vaccine-doses-from-australia-as-it-confirms-two-more-covid-19-deaths-and-143-ndw-cases',\n",
       " 'https://www.thestar.com.my/aseanplus/aseanplus-news/2021/09/18/singapore-eases-restrictions-for-travellers-from-more-countries-those-from-indonesia-can-also-transit-on-the-island',\n",
       " 'https://www.thestar.com.my/aseanplus/aseanplus-news/2021/09/18/indonesia-reminds-australia-of-commitment-to-maintain-peace-in-region-after-defence-pact-with-us-and-britain',\n",
       " 'https://www.thestar.com.my/aseanplus/aseanplus-news/2021/09/18/thailand-bangkok039s-reopening-postponement-may-go-on-longer-than-expected-says-its-governor',\n",
       " 'https://www.thestar.com.my/aseanplus/aseanplus-news/2021/09/18/flooding-most-serious-climate-change-impact-in-south-east-asia-says-climate-survey',\n",
       " 'https://www.thestar.com.my/news/nation/2021/09/18/uk-relaxes-travel-restrictions-for-fully-vaccinated-malaysians',\n",
       " 'https://www.thestar.com.my/aseanplus/aseanplus-news/2021/09/18/cambodian-leader-hun-sen-is-boasting-he-barged-into-opposition-video-call',\n",
       " 'https://www.thestar.com.my/aseanplus/aseanplus-news/2021/09/18/laos-health-ministry-advises-covid-19-vaccine-jabs-for-pregnant-women-and-older-students',\n",
       " 'https://www.thestar.com.my/news/world/2021/09/18/spacex-capsule-with-world039s-first-all-civilian-orbital-crew-set-for-splashdown',\n",
       " 'https://www.thestar.com.my/aseanplus/aseanplus-news/2021/09/18/vietnam-govts-agrees-to-release-us116-million-to-procure-20-million-doses-of-pfizer-vaccines',\n",
       " 'https://www.thestar.com.my/aseanplus/aseanplus-news/2021/09/18/ccsa-sets-up-guidelines-for-reopening-thailand-in-time-for-high-tourism-season',\n",
       " 'https://www.thestar.com.my/aseanplus/aseanplus-news/2021/09/18/singapore-to-move-students-to-virtual-classes-before-exams',\n",
       " 'https://www.thestar.com.my/aseanplus/aseanplus-news/2021/09/18/brunei-exports-sea-prawns-to-china---gross-output-value-of-the-country039s-aquaculture-industry-increases-by-223',\n",
       " 'https://www.thestar.com.my/news/nation/2021/09/18/govt-working-to-find-solution-to-rising-chicken-price',\n",
       " 'https://www.thestar.com.my/news/nation/2021/09/18/covid-19-15549-new-cases-bring-total-to-2082876',\n",
       " 'https://www.thestar.com.my/aseanplus/aseanplus-news/2021/09/18/singapore039s-daily-covid-19-cases-to-hit-1000-soon-in-039rite-of-passage039-before-situation-stabilises-says-health-minister',\n",
       " 'https://www.thestar.com.my/aseanplus/aseanplus-news/2021/09/18/three-hong-kong-triad-members-arrested-after-two-knife-attacks-in-space-of-nine-hours-police-hunting-three-others',\n",
       " 'https://www.thestar.com.my/aseanplus/aseanplus-news/2021/09/18/blinken-deletes-tweet-saying-us-would-stand-with-people-of-hong-kong-posts-watered-down-version',\n",
       " 'https://www.thestar.com.my/aseanplus/aseanplus-news/2021/09/18/eu-unveils-indo-pacific-strategy-and-admits-us-new-aukus-alliance-came-as-a-surprise',\n",
       " 'https://www.thestar.com.my/opinion/columnists/analysis/2021/09/18/muhyiddin-is-out-but-still-carries-clout',\n",
       " 'https://www.thestar.com.my/business/business-news/2021/09/18/hitting-the-reset-button-for-corporate-malaysia',\n",
       " 'https://www.thestar.com.my/business/business-news/2021/09/18/pick-up-in-deals-seen-in-near-term',\n",
       " 'https://www.thestar.com.my/business/business-news/2021/09/18/will-evergrande-remain-ever-grand',\n",
       " 'https://www.thestar.com.my/business/business-news/2021/09/18/cpo-futures-likely-to-see-technical-correction-next-week',\n",
       " 'https://www.thestar.com.my/business/business-news/2021/09/18/evergrande-says-six-execs-redeemed-investment-products-in-advance',\n",
       " 'https://www.thestar.com.my/business/business-news/2021/09/18/positive-signs-for-top-glove',\n",
       " 'https://www.thestar.com.my/business/business-news/2021/09/18/kwaps-journey-with-esg-investing',\n",
       " 'https://www.thestar.com.my/business/business-news/2021/09/18/too-early-to-predict',\n",
       " 'https://www.thestar.com.my/business/business-news/2021/09/18/the-18th-entry',\n",
       " 'https://www.thestar.com.my/business/business-news/2021/09/18/smes-in-dire-need-of-assistance',\n",
       " 'https://www.thestar.com.my/business/business-news/2021/09/18/short-position---johor-corp-restructuring-top-glove-digitil-isation',\n",
       " 'https://www.thestar.com.my/business/business-news/2021/09/18/brighter-outlook-for-malaysias-oil-and-gas-sector',\n",
       " 'https://www.thestar.com.my/business/business-news/2021/09/18/big-sales-jump-for-ecoworld-malaysia-in-q3',\n",
       " 'https://www.thestar.com.my/business/business-news/2021/09/18/astro-customers-in-for-more-content-treat',\n",
       " 'https://www.thestar.com.my/business/business-news/2021/09/18/airasia-x-recapitalisation-discussions-progressing-well',\n",
       " 'https://www.thestar.com.my/business/smebiz/2021/09/18/enabling-digitalisation',\n",
       " 'https://www.thestar.com.my/business/business-news/2021/09/18/fundaztic-to-fund-solar-initiatives',\n",
       " 'https://www.thestar.com.my/business/business-news/2021/09/18/ceos-optimistic-of-recovery',\n",
       " 'https://www.thestar.com.my/business/business-news/2021/09/18/bridging-the-financial-literacy-gap',\n",
       " 'https://www.thestar.com.my/business/business-news/2021/09/18/early-economic-resumption-vital',\n",
       " 'https://www.thestar.com.my/business/business-news/2021/09/18/gadangs-subsidiary-bags-rm100mil-deal',\n",
       " 'https://www.thestar.com.my/business/business-news/2021/09/18/infineon-opens-austria-plant-early-in-chip-capacity-boost',\n",
       " 'https://www.thestar.com.my/business/business-news/2021/09/18/indonesia-may-reopen-to-tourists-from-some-countries-in-october',\n",
       " 'https://www.thestar.com.my/business/business-news/2021/09/18/airbus-reaches-deal-to-restructure-airasia-jet-order',\n",
       " 'https://www.thestar.com.my/business/business-news/2021/09/18/world-shares-fall-as-markets-await-fed-meeting-taper-timeline',\n",
       " 'https://www.thestar.com.my/business/business-news/2021/09/17/alibabas-lazada-hires-ant-group-veteran-to-head-up-payments',\n",
       " 'https://www.thestar.com.my/business/business-news/2021/09/17/acccim-welcomes-govt-approval-to-bring-in-32000-foreign-workers-for-plantation-sector',\n",
       " 'https://www.thestar.com.my/business/business-news/2021/09/17/klci-in-the-red-as-key-heavyweights-weigh',\n",
       " 'https://www.thestar.com.my/sport/diving/2021/09/18/will-nur-dhabitah-smile-again-after-her-diving-father-leaves',\n",
       " 'https://www.thestar.com.my/sport/football/2021/09/18/next-seasons-premier-league-will-kick-off-with-only-10-teams',\n",
       " 'https://www.thestar.com.my/sport/cricket/2021/09/18/cricket-ipl-resumes-in-uae-after-covid-19-disruption',\n",
       " 'https://www.thestar.com.my/sport/badminton/2021/09/17/mee-fen-hopes-jin-wei-will-rethink-about-her-decision-to-quit',\n",
       " 'https://www.thestar.com.my/sport/cricket/2021/09/18/cricket-nz-set-to-go-home-after-security-scare-leaving-pakistan-in-despair',\n",
       " 'https://www.thestar.com.my/sport/rugby/2021/09/18/rugby-all-blacks-back-on-top-of-the-world-after-36-13-win-over-argentina',\n",
       " 'https://www.thestar.com.my/sport/badminton/2021/09/18/razifs-son-fazriq-gets-new-partner-to-pursue-doubles-glory',\n",
       " 'https://www.thestar.com.my/sport/say-what/2021/09/18/go-where-your-heart-is-jin-wei-its-not-too-late-to-make-a-u-turn',\n",
       " 'https://www.thestar.com.my/sport/diving/2021/09/18/ms-eye-chinese-coach-to-replace-aussie-brooker',\n",
       " 'https://www.thestar.com.my/metro/community-sports/2021/09/18/can-palace-see-offliverpool-as-well',\n",
       " 'https://www.thestar.com.my/sport/tennis/2021/09/17/former-no-1-simona-halep-marries-in-romania',\n",
       " 'https://www.thestar.com.my/sport/football/2021/09/18/soccer-solskjaer-wanted-to-keep-lingard-at-united-says-moyes',\n",
       " 'https://www.thestar.com.my/sport/others/2021/09/17/motor-racing---red-bull-blame-verstappen039s-slow-monza-pitstop-on-fia-change',\n",
       " 'https://www.thestar.com.my/sport/football/2021/09/18/soccer-more-to-come-from-039world-class039-thiago-says-liverpool-boss-klopp',\n",
       " 'https://www.thestar.com.my/sport/rugby/2021/09/18/rugby-australia039s-backs-shine-to-beat-south-africa-30-17-in-brisbane',\n",
       " 'https://www.thestar.com.my/sport/golf/2021/09/16/liyana-is-latest-malaysian-to-hit-the-big-time-in-american-collegiate-golf',\n",
       " 'https://www.thestar.com.my/sport/others/2021/09/17/motor-racing---confirmed-formula-one-driver-lineups-for-2022',\n",
       " 'https://www.thestar.com.my/sport/others/2021/09/17/paralympians-rewarded-handsomely-for-inspiring-feats-in-tokyo',\n",
       " 'https://www.thestar.com.my/sport/badminton/2021/09/17/its-double-the-workload-for-meng-yean',\n",
       " 'https://www.thestar.com.my/sport/football/2021/09/18/soccer-i-always-wanted-to-play-for-perth-says-ex-liverpool-keeper-jones',\n",
       " 'https://www.thestar.com.my/sport/tennis/2021/09/17/tennis---reviewing-us-open-final-win-felt-like-watching-someone-else---raducanu',\n",
       " 'https://www.thestar.com.my/sport/football/2021/09/18/soccer-guardiola-says-defender-dias-added-to-city039s-leadership-group',\n",
       " 'https://www.thestar.com.my/sport/football/2021/09/17/soccer---liverpool-cannot-waste-points-in-another-tough-season-says-klopp',\n",
       " 'https://www.thestar.com.my/sport/badminton/2021/09/17/momota-cant-afford-below-par-display-in-sudirman-cup',\n",
       " 'https://www.thestar.com.my/metro/community-sports/2021/09/18/metrosport-forecast-challenge',\n",
       " 'https://www.thestar.com.my/metro/community-sports/2021/09/18/on-form-chelsea-get-the-nod',\n",
       " 'https://www.thestar.com.my/sport/others/2021/09/17/astro-to-give-three-new-sports-channels-at-no-extra-cost',\n",
       " 'https://www.thestar.com.my/sport/hockey/2021/09/18/razie-malaysia-must-pass-tests-to-get-closer-to-canada',\n",
       " 'https://www.thestar.com.my/sport/football/2021/09/17/soccer-spurs-suffer-double-injury-blow-before-chelsea-clash',\n",
       " 'https://www.thestar.com.my/sport/football/2021/09/18/soccer-newcastle-and-leeds-stay-in-doldrums-after-1-1-draw',\n",
       " 'https://www.thestar.com.my/sport/football/2021/09/18/brazil-legend-pele-re-enters-icu-espn-brasil-reports',\n",
       " 'https://www.thestar.com.my/sport/football/2021/09/18/soccer---beckham-increases-ownership-stake-in-mls-club-inter-miami',\n",
       " 'https://www.thestar.com.my/sport/football/2021/09/17/soccer---palace-going-to-anfield-with-no-fear-says-vieira',\n",
       " 'https://www.thestar.com.my/sport/football/2021/09/17/soccer---chelsea-not-at-top-level-but-still-tough-to-beat-says-tuchel',\n",
       " 'https://www.thestar.com.my/sport/others/2021/09/17/soviet-chess-legend-sues-netflix-for-039sexist039-line-in-queen039s-gambit-show',\n",
       " 'https://www.thestar.com.my/metro/metro-news/2021/09/18/flavours-of-change',\n",
       " 'https://www.thestar.com.my/metro/metro-news/2021/09/18/shared-responsibility-to-aid-the-needy',\n",
       " 'https://www.thestar.com.my/metro/views/2021/09/18/give-some-thought-to-feral-cats',\n",
       " 'https://www.thestar.com.my/metro/metro-news/2021/09/18/rivers-waterfalls-in-selangor-forest-reserve-areas-off-limits',\n",
       " 'https://www.thestar.com.my/metro/metro-news/2021/09/18/road-users-in-klang-negotiate-large-potholes-every-day',\n",
       " 'https://www.thestar.com.my/metro/metro-news/2021/09/18/homestay-owners-remain-cautious',\n",
       " 'https://www.thestar.com.my/metro/metro-news/2021/09/18/gyms-geared-up-to-reopen',\n",
       " 'https://www.thestar.com.my/metro/metro-news/2021/09/17/zip-line-in-shah-alam-reopens',\n",
       " 'https://www.thestar.com.my/metro/metro-news/2021/09/17/more-aid-to-upgrade-flats',\n",
       " 'https://www.thestar.com.my/metro/metro-news/2021/09/18/sweet-note-of-appreciation',\n",
       " 'https://www.thestar.com.my/metro/metro-news/2021/09/17/10-families-evacuated-as-erosion-threatens-block-of-flats',\n",
       " 'https://www.thestar.com.my/metro/metro-news/2021/09/17/covid-19-virus-not-likely-to-infect-residents-living-nearby-cemeteries',\n",
       " 'https://www.thestar.com.my/metro/metro-news/2021/09/17/groups-welcome-timely-urban-farming-guideline',\n",
       " 'https://www.thestar.com.my/metro/metro-news/2021/09/17/kls-bird-park-all-set-to-soar-again',\n",
       " 'https://www.thestar.com.my/metro/metro-news/2021/09/17/smes-want-leniency-in-rules-as-economic-sectors-reopen',\n",
       " 'https://www.thestar.com.my/metro/metro-news/2021/09/17/brickfields-folk-question-safety-of-decade-old-bridges',\n",
       " 'https://www.thestar.com.my/metro/metro-news/2021/09/17/cinemas-beckon-movie-fans',\n",
       " 'https://www.thestar.com.my/metro/metro-news/2021/09/17/army-starts-pitching-medical-tents',\n",
       " 'https://www.thestar.com.my/metro/metro-news/2021/09/17/working-together-to-help-vulnerable-communities',\n",
       " 'https://www.thestar.com.my/metro/metro-news/2021/09/17/students-from-16-schools-get-60-refurbished-laptops-with-data-plans',\n",
       " 'https://www.thestar.com.my/metro/metro-news/2021/09/17/residents-need-not-pay-for-repairs-to-roads-damaged-during-upgrading-works',\n",
       " 'https://www.thestar.com.my/metro/metro-news/2021/09/17/club-aims-to-raise-rm10000-for-childhood-cancer-awareness',\n",
       " 'https://www.thestar.com.my/metro/metro-news/2021/09/17/waivers-for-vendors',\n",
       " 'https://www.thestar.com.my/metro/metro-news/2021/09/17/bank-gives-rm227mil-for-vaccination-efforts',\n",
       " 'https://www.thestar.com.my/metro/metro-news/2021/09/17/virtual-shows-aimed-at-raising-funds-for-struggling-penangpac',\n",
       " 'https://www.thestar.com.my/metro/metro-news/2021/09/17/brewer-drives-home-work-smart-drink-smart-message',\n",
       " 'https://www.thestar.com.my/metro/metro-news/2021/09/17/pasir-pinji-senior-citizens-receive-mooncakes-lanterns',\n",
       " 'https://www.thestar.com.my/metro/metro-news/2021/09/17/irda-urged-to-shift-into-overdrive',\n",
       " 'https://www.thestar.com.my/metro/metro-news/2021/09/16/help-us-bring-down-the-curtain-on-vice-activities-in-neighbourhoods-dbkl-urges-public',\n",
       " 'https://www.thestar.com.my/metro/metro-news/2021/09/16/laminated-card-number-system-unhygienic',\n",
       " 'https://www.thestar.com.my/metro/metro-news/2021/09/16/sibu-teens-get-jpa-scholarship-after-appeal',\n",
       " 'https://www.thestar.com.my/metro/metro-news/2021/09/16/selayang-council-takes-action-against-traders-flouting-regulations',\n",
       " 'https://www.thestar.com.my/metro/metro-news/2021/09/16/hill-train-service-to-shut-down-for-eight-days-in-november-and-december',\n",
       " 'https://www.thestar.com.my/lifestyle/culture/2021/09/18/zimbabwean-artist-turns-worthless-old-mugabe-era-banknotes-into-paintings',\n",
       " 'https://www.thestar.com.my/lifestyle/culture/2021/09/18/malaysian-artist-paints-an-intensely-flavoured-series-on-food-and-memory',\n",
       " 'https://www.thestar.com.my/lifestyle/family/2021/09/17/starchild-malaysian-children-have-grand-ideas-of-their-dream-homes',\n",
       " 'https://www.thestar.com.my/lifestyle/entertainment/2021/09/17/haters-supporters-weigh-in-on-meghan-and-harry039s-strange-plasticky-time-cover-photo',\n",
       " 'https://www.thestar.com.my/lifestyle/living/2021/09/18/7-hunting-dogs-that-make-good-house-pets',\n",
       " 'https://www.thestar.com.my/lifestyle/travel/2021/09/18/various-reactions-from-malaysians-over-langkawi-tourism-bubble',\n",
       " 'https://www.thestar.com.my/lifestyle/health/2021/09/18/tips-for-parents-with-children-who-have-learning-disabilities',\n",
       " 'https://www.thestar.com.my/lifestyle/entertainment/2021/09/18/seungkwan-from-k-pop039s-seventeen-exchanges-microphone-for-badminton-racket-in-new-variety-show',\n",
       " 'https://www.thestar.com.my/lifestyle/living/2021/09/18/greek-winemakers-delve-depths-of-underwater-ageing',\n",
       " 'https://www.thestar.com.my/lifestyle/entertainment/2021/09/17/actor-sylvester-stallone-movie-memorabilia-headed-for-auction',\n",
       " 'https://www.thestar.com.my/lifestyle/family/2021/09/18/living-with-alzheimers',\n",
       " 'https://www.thestar.com.my/lifestyle/travel/2021/09/18/time-for-malaysians-to-re-discover-langkawi-under-tourism-bubble',\n",
       " 'https://www.thestar.com.my/lifestyle/health/2021/09/18/plant-ing-that-zen-feeling-around-your-home',\n",
       " 'https://www.thestar.com.my/lifestyle/culture/2021/09/17/039crazy-dream039-macron-unveils-wrapped-arc-de-triomphe-in-paris',\n",
       " 'https://www.thestar.com.my/lifestyle/entertainment/2021/09/17/singaporean-actor-ryan-lian-talks-about-reuniting-with-brother-who-was-039given-away039-28-years-ago',\n",
       " 'https://www.thestar.com.my/lifestyle/culture/2021/09/17/in-american-author-sandra-cisneros039-new-book-an-overdue-letter-to-a-friend',\n",
       " 'https://www.thestar.com.my/lifestyle/style/2021/09/17/in-bid-for-sustainability-clothes-are-being-fashioned-from-recycled-car-airbags',\n",
       " 'https://www.thestar.com.my/lifestyle/entertainment/2021/09/17/whitney-houston039s-039the-bodyguard039-movie-gets-a-hollywood-remake',\n",
       " 'https://www.thestar.com.my/lifestyle/entertainment/2021/09/17/johor-born-actor-ronny-chieng-says-he039s-still-039anak-malaysia039-in-marvel-studios039-promo-clip',\n",
       " 'https://www.thestar.com.my/lifestyle/style/2021/09/17/who-is-nigo-and-why-is-his-takeover-of-the-kenzo-fashion-house-a-big-deal',\n",
       " 'https://www.thestar.com.my/lifestyle/living/2021/09/17/my-pet-story-the-kitten-who-thinks-he-is-a-puppy',\n",
       " 'https://www.thestar.com.my/lifestyle/entertainment/2021/09/17/model-jung-ho-yeon-goes-from-ny-fashion-week-to-making-her-acting-debut-in-new-series-squid-game',\n",
       " 'https://www.thestar.com.my/lifestyle/people/2021/09/17/proud-to-be-malaysian',\n",
       " 'https://www.thestar.com.my/lifestyle/health/2021/09/17/spotting-your-child039s-learning-disability-early',\n",
       " 'https://www.thestar.com.my/lifestyle/entertainment/2021/09/17/039clickbait039-review-steers-us-through-the-haze-of-our-lies-on-social-media',\n",
       " 'https://www.thestar.com.my/lifestyle/people/2021/09/17/from-covid-to-ida-louisiana039s-marginalised-039see-no-way-out039',\n",
       " 'https://www.thestar.com.my/lifestyle/family/2021/09/17/creating-a-community-of-care-for-people-living-with-dementia',\n",
       " 'https://www.thestar.com.my/food/food-news/2021/09/16/new-documentary-series-highlights-penang039s-famed-food-culture-and-food-vendors',\n",
       " 'https://www.thestar.com.my/food/food-news/2021/09/15/enjoy-mid-autumn-celebratory-feasts-at-home',\n",
       " 'https://www.thestar.com.my/food/food-news/2021/09/15/dining-amid-hornbills',\n",
       " 'https://www.thestar.com.my/lifestyle/health/2021/09/11/foods-that-can-add-or-take-away-minutes-of-your-life',\n",
       " 'https://www.thestar.com.my/food/eating-out/2021/09/11/for-coffee-and-ice-cream-lovers',\n",
       " 'https://www.thestar.com.my/food/food-news/2021/09/11/sumatran-beef-dish-for-festive-days',\n",
       " 'https://www.thestar.com.my/food/food-news/2021/09/08/ordering-in-a-beloved-pj-porridge-stall-has-reinvented-itself-as-a-home-business',\n",
       " 'https://www.thestar.com.my/food/food-news/2021/09/08/mid-autumn-festive-meals-for-leisurely-dining-at-home',\n",
       " 'https://www.thestar.com.my/food/food-news/2021/09/08/pizzas-for-malaysian-taste-buds',\n",
       " 'https://www.thestar.com.my/lifestyle/living/tipsy-turvy/2021/09/07/tipsy-turvy-cachaa-the-sweet-spirit-of-brazil',\n",
       " 'https://www.thestar.com.my/food/food-news/2021/09/07/transforming-barren-old-durian-trees-into-fruit-bearing-ones',\n",
       " 'https://www.thestar.com.my/food/food-for-thought/curious-cook/2021/09/05/curious-cook-a-garlic-flavoured-story',\n",
       " 'https://www.thestar.com.my/food/food-news/2021/09/03/ordering-in-the-only-restaurant-in-malaysia-to-feature-the-food-of-the-oldest-peranakans-of-the-land',\n",
       " 'https://www.thestar.com.my/metro/metro-news/2021/09/02/sweet-and-savoury-signature-mini-treats-await-mooncake-lovers',\n",
       " 'https://www.thestar.com.my/food/eating-out/2021/09/02/eaterys-explosive-recipe-for-success',\n",
       " 'https://www.thestar.com.my/food/food-news/2021/09/01/treasured-traditions',\n",
       " 'https://www.thestar.com.my/food/food-news/2021/08/31/get-your-fill-of-savoury-pie',\n",
       " 'https://www.thestar.com.my/food/food-news/2021/08/31/unbox-mouthwatering-gourmand-delights-in-your-home',\n",
       " 'https://www.thestar.com.my/food/food-news/2021/08/30/the-star-studded-singapore-food-festival-has-plenty-for-malaysian-foodies-to-enjoy-at-home',\n",
       " 'https://www.thestar.com.my/lifestyle/living/2021/08/30/will-cloud-kitchens-outlast-the-pandemic',\n",
       " 'https://www.thestar.com.my/food/food-news/2021/08/30/why-have-cloud-kitchens-gained-momentum-in-the-klang-valley-in-the-past-year',\n",
       " 'https://www.thestar.com.my/food/food-news/2021/08/30/did-you-know-that-msg-has-23-less-sodium-than-table-salt',\n",
       " 'https://www.thestar.com.my/food/food-news/2021/08/30/multicultural-meals',\n",
       " 'https://www.thestar.com.my/food/food-for-thought/curious-cook/2021/08/21/curious-cook-villains-of-our-times',\n",
       " 'https://www.thestar.com.my/lifestyle/health/2021/08/20/here039s-what-you-can-and-cannot-use-your-microwave-for',\n",
       " 'https://www.thestar.com.my/food/food-news/2021/08/20/limited-edition-mooncakes-for-mid-autumn-festival',\n",
       " 'https://www.thestar.com.my/food/food-news/2021/08/20/mart-offers-quick-meals-and-groceries',\n",
       " 'https://www.thestar.com.my/tech/tech-news/2021/09/17/hackers-pose-as-spore-bank-customers-by-stealing-otps-making-s500k-in-fake-credit-card-payments',\n",
       " 'https://www.thestar.com.my/tech/tech-news/2021/09/18/india-antitrust-probe-finds-google-abused-android-dominance-report-shows',\n",
       " 'https://www.thestar.com.my/tech/tech-news/2021/09/17/tencent-opens-wechat-to-rivals-links-as-china-app-walls-crumble',\n",
       " 'https://www.thestar.com.my/tech/tech-news/2021/09/18/chinese-version-of-tiktok-limits-use-of-app-by-those-under-14',\n",
       " 'https://www.thestar.com.my/tech/tech-news/2021/09/17/millions-of-gamers-on-hp-computers-left-vulnerable-by-security-flaw',\n",
       " 'https://www.thestar.com.my/tech/tech-news/2021/09/17/infineon-ceo-we-expect-chip-prices-to-rise-significantly',\n",
       " 'https://www.thestar.com.my/tech/tech-news/2021/09/18/what-to-expect-before-buying-an-escooter',\n",
       " 'https://www.thestar.com.my/tech/tech-news/2021/09/17/mcmc-government-seeking-public-feedback-on-national-super-app',\n",
       " 'https://www.thestar.com.my/tech/tech-news/2021/09/18/workplace-meetings-hit-the-road-as-microsoft-develops-teams-for-cars',\n",
       " 'https://www.thestar.com.my/tech/tech-news/2021/09/17/driving-use-google-maps-speed-limit-warning-feature-to-stay-safe-heres-how',\n",
       " 'https://www.thestar.com.my/tech/tech-news/2021/09/17/over-60-skorean-crypto-exchanges-set-to-suspend-services-next-week',\n",
       " 'https://www.thestar.com.my/tech/tech-news/2021/09/17/what-does-the-epic-games-vs-apple-court-fight-mean-for-iphone-owners',\n",
       " 'https://www.thestar.com.my/tech/tech-news/2021/09/17/musk-lauds-chinese-carmakers-as-tesla-moves-to-repair-image',\n",
       " 'https://www.thestar.com.my/tech/tech-news/2021/09/18/you-had-one-job-google039s-alarm-fails-countless-users-after-update',\n",
       " 'https://www.thestar.com.my/tech/2021/09/17/039happy039-spacex-tourist-crew-spend-first-day-whizzing-around-earth',\n",
       " 'https://www.thestar.com.my/tech/tech-news/2021/09/18/work-together-or-fail-039operation-tango039-is-a-game-built-for-two',\n",
       " 'https://www.thestar.com.my/lifestyle/health/2021/09/16/the-digital-healthcare-generation-gap-in-malaysia',\n",
       " 'https://www.thestar.com.my/tech/tech-news/2021/09/17/banks-beware-outsiders-are-cracking-the-code-for-finance',\n",
       " 'https://www.thestar.com.my/tech/tech-news/2021/09/18/barra-gm-will-make-039substantial-shifts039-in-supply-chain-over-chips',\n",
       " 'https://www.thestar.com.my/tech/tech-news/2021/09/17/flying-taxi-hubs-planned-for-65-cities-spanning-london-to-la',\n",
       " 'https://www.thestar.com.my/tech/tech-news/2021/09/17/hbo-max-slashes-prices-in-limited-offer-as-streaming-wars-heat-up',\n",
       " 'https://www.thestar.com.my/tech/tech-news/2021/09/17/british-computing-inventor-clive-sinclair-dies-at-81',\n",
       " 'https://www.thestar.com.my/tech/tech-news/2021/09/18/verizon-sweetens-subsidies-on-iphones-to-match-competition',\n",
       " 'https://www.thestar.com.my/tech/tech-news/2021/09/18/ireland-raises-privacy-question-over-facebook-smart-glasses',\n",
       " 'https://www.thestar.com.my/tech/tech-news/2021/09/18/us-probes-possible-insider-trading-at-binance---bloomberg-news',\n",
       " 'https://www.thestar.com.my/tech/tech-news/2021/09/17/tencent-says-will-allow-wechat-users-to-access-rivals039-links',\n",
       " 'https://www.thestar.com.my/news/nation/2021/09/17/time-for-teens-to-get-jabbed',\n",
       " 'https://www.thestar.com.my/news/nation/2021/09/15/varsities-open-for-admission',\n",
       " 'https://www.thestar.com.my/news/nation/2021/09/15/higher-education-sector-to-focus-on-safety-and-health',\n",
       " 'https://www.thestar.com.my/news/nation/2021/09/14/new-sop-for-higher-education-institutions-announced',\n",
       " 'https://www.thestar.com.my/news/nation/2021/09/14/higher-education-institutions-to-reopen-in-stages-from-oct-15-says-noraini',\n",
       " 'https://www.thestar.com.my/news/nation/2021/09/14/experts-school-sop-sufficient',\n",
       " 'https://www.thestar.com.my/news/nation/2021/09/17/safety-a-priority-ahead-of-students-return',\n",
       " 'https://www.thestar.com.my/news/nation/2021/09/16/defence-ministry-to-lend-a-hand',\n",
       " 'https://www.thestar.com.my/news/nation/2021/09/15/results-of-public-university-applications-to-be-released-on-wednesday-sept-15',\n",
       " 'https://www.thestar.com.my/opinion/columnists/over-the-top/2021/09/14/a-great-malaysian-tragedy',\n",
       " 'https://www.thestar.com.my/opinion/columnists/comment/2021/09/16/malaysia-day-the-sun-rises-from-the-east',\n",
       " 'https://www.thestar.com.my/opinion/columnists/comment/2021/09/14/undergarments-advert-ban-lacks-reasonability-film-censorship-board-must-explain-and-announce-sop',\n",
       " 'https://www.thestar.com.my/opinion/columnists/colours-of-china/2021/09/13/remembering-a-mythical-hero',\n",
       " 'https://www.thestar.com.my/opinion/columnists/the-bowerbird-writes/2021/09/13/the-need-for-budgetary-governance',\n",
       " 'https://www.thestar.com.my/starpicks/2021/09/16/pdb-supports-local-entrepreneurs-inspiring-hope-in-tough-times',\n",
       " 'https://www.thestar.com.my/starpicks/2021/09/18/mark-your-calendar-for-huawei-wearable-and-audio-day',\n",
       " 'https://www.thestar.com.my/starpicks/2021/09/18/time-travel-to-the-70s',\n",
       " 'https://www.thestar.com.my/starpicks/2021/09/18/malaysia-day-celebration-highlights-keluarga-malaysia',\n",
       " 'https://www.thestar.com.my/starpicks/2021/09/18/qsr-brands-encourages-malaysians-to-be-vaccinated',\n",
       " 'https://www.thestar.com.my/starpicks/2021/09/17/get-vaccinated-and-win-big-with-aspen-groups-vax-to-win-campaign',\n",
       " 'https://www.thestar.com.my/starpicks/2021/09/17/delaying-cataract-treatment-can-cause-further-eye-damage',\n",
       " 'https://www.thestar.com.my/starpicks/2021/09/16/heres-the-covid-19-reset-that-might-save-the-malaysian-economy',\n",
       " 'https://www.thestar.com.my/starpicks/2021/09/16/striving-for-a-digitally-united-and-sovereign-malaysia',\n",
       " 'https://www.thestar.com.my/starpicks/2021/09/15/supplementing-your-childs-nutritional-needs',\n",
       " 'https://www.thestar.com.my/news/nation/2021/09/15/focus-on-high-value-added-activities',\n",
       " 'https://www.thestar.com.my/starpicks/2021/09/14/kfc-to-auction-limited-edition-buckets-featuring-messages-of-hope',\n",
       " 'https://www.thestar.com.my/starpicks/2021/09/14/join-the-lbs-fabulous-lucky-draw',\n",
       " 'https://www.thestar.com.my/starpicks/2021/09/13/supporting-communities-through-goodwill',\n",
       " 'https://www.thestar.com.my/starpicks/2021/09/13/shaping-doctors-of-the-future']"
      ]
     },
     "execution_count": 237,
     "metadata": {},
     "output_type": "execute_result"
    }
   ],
   "source": [
    "for index in range(5):\n",
    "    for i, ele in enumerate(filtered_links):\n",
    "        if not ele.startswith('https://www.thestar.com.my/'):\n",
    "            del filtered_links[i]\n",
    "print(f'No. of non-TheStar link: {len(filtered_links)}')\n",
    "filtered_links"
   ]
  },
  {
   "cell_type": "markdown",
   "metadata": {},
   "source": [
    "### Retrieve yesterday news"
   ]
  },
  {
   "cell_type": "code",
   "execution_count": 238,
   "metadata": {
    "scrolled": true
   },
   "outputs": [
    {
     "name": "stdout",
     "output_type": "stream",
     "text": [
      "No. of non-TheStar link: 8\n"
     ]
    },
    {
     "data": {
      "text/plain": [
       "['https://www.thestar.com.my/starpicks/2021/09/15/supplementing-your-childs-nutritional-needs?utm_medium=thestar&utm_source=rosnawidget&utm_campaign=Shyan+15Sep21',\n",
       " 'https://www.thestar.com.my/food/food-news/2021/09/15/enjoy-mid-autumn-celebratory-feasts-at-home',\n",
       " 'https://www.thestar.com.my/food/food-news/2021/09/15/dining-amid-hornbills',\n",
       " 'https://www.thestar.com.my/news/nation/2021/09/15/varsities-open-for-admission',\n",
       " 'https://www.thestar.com.my/news/nation/2021/09/15/higher-education-sector-to-focus-on-safety-and-health',\n",
       " 'https://www.thestar.com.my/news/nation/2021/09/15/results-of-public-university-applications-to-be-released-on-wednesday-sept-15',\n",
       " 'https://www.thestar.com.my/starpicks/2021/09/15/supplementing-your-childs-nutritional-needs',\n",
       " 'https://www.thestar.com.my/news/nation/2021/09/15/focus-on-high-value-added-activities']"
      ]
     },
     "execution_count": 238,
     "metadata": {},
     "output_type": "execute_result"
    }
   ],
   "source": [
    "# Get yesterday date\n",
    "yesterday = datetime.now() - timedelta(1)\n",
    "date_required = f'{yesterday.year}/{yesterday.month:02d}/{yesterday.day:02d}'\n",
    "\n",
    "yesterday_links = []\n",
    "[yesterday_links.append(y) for y in filtered_links if re.search(date_required, y)]\n",
    "\n",
    "print(f'No. of non-TheStar link: {len(yesterday_links)}')\n",
    "yesterday_links"
   ]
  },
  {
   "cell_type": "code",
   "execution_count": 239,
   "metadata": {
    "scrolled": true
   },
   "outputs": [
    {
     "name": "stdout",
     "output_type": "stream",
     "text": [
      "Links to crawl: 0\n"
     ]
    },
    {
     "data": {
      "text/plain": [
       "[]"
      ]
     },
     "execution_count": 239,
     "metadata": {},
     "output_type": "execute_result"
    }
   ],
   "source": [
    "new_news = []\n",
    "try:\n",
    "    with open('checking.txt', 'r') as f:\n",
    "        checking_links = f.read().splitlines()\n",
    "        \n",
    "    if checking_links[0] == date_required:\n",
    "        with open('checking.txt', 'a') as f:\n",
    "            for url1 in yesterday_links:\n",
    "                for index, url2 in enumerate(checking_links):\n",
    "                    if url1 == url2:\n",
    "                        break\n",
    "                    elif index == len(checking_links) - 1:\n",
    "                        new_news.append(url1)\n",
    "                        f.write(url1 + '\\n')\n",
    "    else:\n",
    "        with open('checking.txt', 'w') as f:\n",
    "            f.write(date_required + '\\n')\n",
    "            for url in yesterday_links:\n",
    "                new_news.append(url)\n",
    "                f.write(url + '\\n')  \n",
    "\n",
    "except FileNotFoundError:\n",
    "    with open('checking.txt', 'w') as f:\n",
    "        f.write(date_required + '\\n')\n",
    "        for url in yesterday_links:\n",
    "            new_news.append(url)\n",
    "            f.write(url + '\\n')       \n",
    "                    \n",
    "print(f'Links to crawl: {len(new_news)}')\n",
    "new_news"
   ]
  },
  {
   "cell_type": "markdown",
   "metadata": {},
   "source": [
    "### Browse through each url and crawl the news content"
   ]
  },
  {
   "cell_type": "code",
   "execution_count": 240,
   "metadata": {
    "scrolled": true
   },
   "outputs": [],
   "source": [
    "for link in new_news:\n",
    "    driver = webdriver.Chrome()\n",
    "    url = f\"{link}\"\n",
    "    print(link)\n",
    "    driver.get(url)\n",
    "\n",
    "    try:\n",
    "        title = driver.find_element_by_tag_name('h1').text\n",
    "    except NoSuchElementException:\n",
    "        driver.close()\n",
    "        driver.quit()\n",
    "        continue\n",
    "\n",
    "    try:\n",
    "        author = driver.find_elements_by_xpath(\".//div[@class = 'credit__authors']/a\")\n",
    "        author = toList(author, 'text')\n",
    "        author = re.sub(\",\", \" \", '，'.join(author))\n",
    "    except NoSuchElementException:\n",
    "        author = ''\n",
    "        pass\n",
    "\n",
    "    try:\n",
    "        date = driver.find_element_by_xpath(\".//p[@class = 'date']\").text\n",
    "    except NoSuchElementException:\n",
    "        date = ''\n",
    "        pass\n",
    "\n",
    "    try:\n",
    "        timestamp = driver.find_element_by_xpath(\".//time[@class = 'timestamp']\").text\n",
    "    except NoSuchElementException:\n",
    "        timestamp = ''\n",
    "        pass\n",
    "\n",
    "    # Extract all the text of the news content\n",
    "    parent = driver.find_element_by_id('story-body')\n",
    "    content = list(parent.text.split('\\n'))\n",
    "\n",
    "    # The following 4 statements are to extract all irrelevant content such as chart and image caption\n",
    "    chart_text = parent.find_elements_by_xpath(\".//div[contains(@class, 'flourish')]\")\n",
    "    inline_text = parent.find_elements_by_xpath(\".//span[contains(@class, 'inline-caption')]\")\n",
    "    caption_text = parent.find_elements_by_xpath(\".//p[contains(@class, 'caption')]\")\n",
    "    extra_text = chart_text + inline_text + caption_text\n",
    "\n",
    "    full_content = toList(extra_text, 'text')\n",
    "    full_content = list(set(full_content))\n",
    "\n",
    "    # Filter out irrelevant content\n",
    "    for index, i in enumerate(content):\n",
    "        for j in full_content:\n",
    "            if i == j:\n",
    "                content[index] = ''\n",
    "\n",
    "    # Remove the enter and empty field from the extracted news content\n",
    "    real_content = ''\n",
    "    for element in content:\n",
    "        real_content += element\n",
    "\n",
    "    # Determine the type of the news by using the url\n",
    "    for category in all_type:\n",
    "        string = f\"https://www.thestar.com.my/{category.lower()}\"\n",
    "        result = re.search(string, link)\n",
    "        if result is not None:\n",
    "            break\n",
    "\n",
    "    print(date)\n",
    "    print(timestamp)\n",
    "    print(title)\n",
    "    print(category)\n",
    "    print(author)\n",
    "    print(real_content)\n",
    "\n",
    "    news_items = {'Date': date, 'Time': timestamp, 'Type': category, 'Author': author, 'Title': title, 'Content': real_content}\n",
    "    news_list.append(news_items)\n",
    "    print(len(news_list))\n",
    "    driver.close()\n",
    "    driver.quit()\n",
    "    time.sleep(3)"
   ]
  },
  {
   "cell_type": "markdown",
   "metadata": {},
   "source": [
    "### Store the crawled data into data frame"
   ]
  },
  {
   "cell_type": "code",
   "execution_count": 241,
   "metadata": {
    "scrolled": true
   },
   "outputs": [
    {
     "ename": "KeyError",
     "evalue": "'Time'",
     "output_type": "error",
     "traceback": [
      "\u001b[1;31m---------------------------------------------------------------------------\u001b[0m",
      "\u001b[1;31mKeyError\u001b[0m                                  Traceback (most recent call last)",
      "\u001b[1;32m<ipython-input-241-f0c7d4fa1c4d>\u001b[0m in \u001b[0;36m<module>\u001b[1;34m\u001b[0m\n\u001b[0;32m      1\u001b[0m \u001b[0mdata\u001b[0m \u001b[1;33m=\u001b[0m \u001b[0mpd\u001b[0m\u001b[1;33m.\u001b[0m\u001b[0mDataFrame\u001b[0m\u001b[1;33m(\u001b[0m\u001b[0mnews_list\u001b[0m\u001b[1;33m)\u001b[0m\u001b[1;33m\u001b[0m\u001b[1;33m\u001b[0m\u001b[0m\n\u001b[1;32m----> 2\u001b[1;33m \u001b[0mdata\u001b[0m \u001b[1;33m=\u001b[0m \u001b[0mdata\u001b[0m\u001b[1;33m.\u001b[0m\u001b[0msort_values\u001b[0m\u001b[1;33m(\u001b[0m\u001b[1;34m'Time'\u001b[0m\u001b[1;33m)\u001b[0m\u001b[1;33m\u001b[0m\u001b[1;33m\u001b[0m\u001b[0m\n\u001b[0m\u001b[0;32m      3\u001b[0m \u001b[0mdata\u001b[0m\u001b[1;33m.\u001b[0m\u001b[0mhead\u001b[0m\u001b[1;33m(\u001b[0m\u001b[1;33m)\u001b[0m\u001b[1;33m\u001b[0m\u001b[1;33m\u001b[0m\u001b[0m\n",
      "\u001b[1;32m~\\anaconda3\\lib\\site-packages\\pandas\\core\\frame.py\u001b[0m in \u001b[0;36msort_values\u001b[1;34m(self, by, axis, ascending, inplace, kind, na_position, ignore_index, key)\u001b[0m\n\u001b[0;32m   5292\u001b[0m \u001b[1;33m\u001b[0m\u001b[0m\n\u001b[0;32m   5293\u001b[0m             \u001b[0mby\u001b[0m \u001b[1;33m=\u001b[0m \u001b[0mby\u001b[0m\u001b[1;33m[\u001b[0m\u001b[1;36m0\u001b[0m\u001b[1;33m]\u001b[0m\u001b[1;33m\u001b[0m\u001b[1;33m\u001b[0m\u001b[0m\n\u001b[1;32m-> 5294\u001b[1;33m             \u001b[0mk\u001b[0m \u001b[1;33m=\u001b[0m \u001b[0mself\u001b[0m\u001b[1;33m.\u001b[0m\u001b[0m_get_label_or_level_values\u001b[0m\u001b[1;33m(\u001b[0m\u001b[0mby\u001b[0m\u001b[1;33m,\u001b[0m \u001b[0maxis\u001b[0m\u001b[1;33m=\u001b[0m\u001b[0maxis\u001b[0m\u001b[1;33m)\u001b[0m\u001b[1;33m\u001b[0m\u001b[1;33m\u001b[0m\u001b[0m\n\u001b[0m\u001b[0;32m   5295\u001b[0m \u001b[1;33m\u001b[0m\u001b[0m\n\u001b[0;32m   5296\u001b[0m             \u001b[1;31m# need to rewrap column in Series to apply key function\u001b[0m\u001b[1;33m\u001b[0m\u001b[1;33m\u001b[0m\u001b[1;33m\u001b[0m\u001b[0m\n",
      "\u001b[1;32m~\\anaconda3\\lib\\site-packages\\pandas\\core\\generic.py\u001b[0m in \u001b[0;36m_get_label_or_level_values\u001b[1;34m(self, key, axis)\u001b[0m\n\u001b[0;32m   1561\u001b[0m             \u001b[0mvalues\u001b[0m \u001b[1;33m=\u001b[0m \u001b[0mself\u001b[0m\u001b[1;33m.\u001b[0m\u001b[0maxes\u001b[0m\u001b[1;33m[\u001b[0m\u001b[0maxis\u001b[0m\u001b[1;33m]\u001b[0m\u001b[1;33m.\u001b[0m\u001b[0mget_level_values\u001b[0m\u001b[1;33m(\u001b[0m\u001b[0mkey\u001b[0m\u001b[1;33m)\u001b[0m\u001b[1;33m.\u001b[0m\u001b[0m_values\u001b[0m\u001b[1;33m\u001b[0m\u001b[1;33m\u001b[0m\u001b[0m\n\u001b[0;32m   1562\u001b[0m         \u001b[1;32melse\u001b[0m\u001b[1;33m:\u001b[0m\u001b[1;33m\u001b[0m\u001b[1;33m\u001b[0m\u001b[0m\n\u001b[1;32m-> 1563\u001b[1;33m             \u001b[1;32mraise\u001b[0m \u001b[0mKeyError\u001b[0m\u001b[1;33m(\u001b[0m\u001b[0mkey\u001b[0m\u001b[1;33m)\u001b[0m\u001b[1;33m\u001b[0m\u001b[1;33m\u001b[0m\u001b[0m\n\u001b[0m\u001b[0;32m   1564\u001b[0m \u001b[1;33m\u001b[0m\u001b[0m\n\u001b[0;32m   1565\u001b[0m         \u001b[1;31m# Check for duplicates\u001b[0m\u001b[1;33m\u001b[0m\u001b[1;33m\u001b[0m\u001b[1;33m\u001b[0m\u001b[0m\n",
      "\u001b[1;31mKeyError\u001b[0m: 'Time'"
     ]
    }
   ],
   "source": [
    "data = pd.DataFrame(news_list)\n",
    "data = data.sort_values('Time')\n",
    "data.head()"
   ]
  },
  {
   "cell_type": "code",
   "execution_count": null,
   "metadata": {},
   "outputs": [],
   "source": [
    "print(\"Shape    : \", data.shape)"
   ]
  },
  {
   "cell_type": "markdown",
   "metadata": {},
   "source": [
    "### Store news to csv file"
   ]
  },
  {
   "cell_type": "code",
   "execution_count": null,
   "metadata": {
    "scrolled": true
   },
   "outputs": [],
   "source": [
    "data.to_csv('News.csv', mode = 'a', index = False, header = False)"
   ]
  },
  {
   "cell_type": "code",
   "execution_count": null,
   "metadata": {},
   "outputs": [],
   "source": [
    "df = pd.read_csv('News.csv')\n",
    "print(\"Shape    : \", df.shape)"
   ]
  },
  {
   "cell_type": "markdown",
   "metadata": {},
   "source": [
    "<hr>"
   ]
  },
  {
   "cell_type": "markdown",
   "metadata": {},
   "source": [
    "### Combine 2 data frames"
   ]
  },
  {
   "cell_type": "code",
   "execution_count": null,
   "metadata": {},
   "outputs": [],
   "source": [
    "# # Concatenate current and older data\n",
    "# data = pd.concat([before, current])\n",
    "# # Drop duplicates between previous and current data\n",
    "# data.drop_duplicates(inplace = True, subset = ['Content'])\n",
    "# # Store the data back to the News csv file\n",
    "# data.to_csv('News.csv', index=False)\n",
    "# data.head()"
   ]
  },
  {
   "cell_type": "code",
   "execution_count": null,
   "metadata": {},
   "outputs": [],
   "source": [
    "# print(\"Rows     : \", data.shape[0])\n",
    "# print(\"Columns  : \", data.shape[1])\n",
    "# print(\"Shape    : \", data.shape)\n",
    "# print(\"Features : \", data.columns.tolist())"
   ]
  }
 ],
 "metadata": {
  "kernelspec": {
   "display_name": "Python 3",
   "language": "python",
   "name": "python3"
  },
  "language_info": {
   "codemirror_mode": {
    "name": "ipython",
    "version": 3
   },
   "file_extension": ".py",
   "mimetype": "text/x-python",
   "name": "python",
   "nbconvert_exporter": "python",
   "pygments_lexer": "ipython3",
   "version": "3.8.5"
  }
 },
 "nbformat": 4,
 "nbformat_minor": 4
}
